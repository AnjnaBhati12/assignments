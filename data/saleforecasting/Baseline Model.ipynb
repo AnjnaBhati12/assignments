{
 "cells": [
  {
   "cell_type": "code",
   "execution_count": 1,
   "metadata": {},
   "outputs": [],
   "source": [
    "#importing required libraries\n",
    "import pandas as pd\n",
    "import preprocess as pav"
   ]
  },
  {
   "cell_type": "markdown",
   "metadata": {},
   "source": [
    "<h2>Baseline model</h2>\n",
    "1. It does not consider any independent attributes to predict weekly sales.\n",
    "2. It does not consider any machine learning methods to perform prediction.\n",
    "<h2>Approach:</h2>\n",
    "Predict sales of current week as average weekly sale in previous year-month."
   ]
  },
  {
   "cell_type": "code",
   "execution_count": 2,
   "metadata": {
    "collapsed": true
   },
   "outputs": [],
   "source": [
    "train = pd.read_csv(\"train.csv\")\n",
    "test = pd.read_csv(\"test.csv\")"
   ]
  },
  {
   "cell_type": "code",
   "execution_count": 3,
   "metadata": {
    "collapsed": true
   },
   "outputs": [],
   "source": [
    "pav.DateToYearMonthDay(train,'Date')\n",
    "pav.DateToYearMonthDay(test,'Date')"
   ]
  },
  {
   "cell_type": "markdown",
   "metadata": {},
   "source": [
    "#Computing average monthly sales of year-month wise in training dataset."
   ]
  },
  {
   "cell_type": "code",
   "execution_count": 4,
   "metadata": {},
   "outputs": [
    {
     "name": "stderr",
     "output_type": "stream",
     "text": [
      "Z:\\Anaconda\\Anaconda_setup_files\\lib\\site-packages\\ipykernel_launcher.py:4: SettingWithCopyWarning:\n",
      "\n",
      "\n",
      "A value is trying to be set on a copy of a slice from a DataFrame.\n",
      "Try using .loc[row_indexer,col_indexer] = value instead\n",
      "\n",
      "See the caveats in the documentation: http://pandas.pydata.org/pandas-docs/stable/indexing.html#indexing-view-versus-copy\n",
      "\n",
      "Z:\\Anaconda\\Anaconda_setup_files\\lib\\site-packages\\ipykernel_launcher.py:9: SettingWithCopyWarning:\n",
      "\n",
      "\n",
      "A value is trying to be set on a copy of a slice from a DataFrame.\n",
      "Try using .loc[row_indexer,col_indexer] = value instead\n",
      "\n",
      "See the caveats in the documentation: http://pandas.pydata.org/pandas-docs/stable/indexing.html#indexing-view-versus-copy\n",
      "\n"
     ]
    }
   ],
   "source": [
    "\n",
    "\n",
    "#Train subset and dropping duplicates\n",
    "TrainSubset = train[['Year','Month','Store','Dept']]\n",
    "TrainSubsetUnique = TrainSubset.drop_duplicates()\n",
    "TrainSubsetUnique['Monthly_avg_sales'] = 0\n",
    "\n",
    "#group by store, dept, year, month\n",
    "avg_sale = train.groupby(['Year','Month','Store','Dept'])['Weekly_Sales'].mean()\n",
    "avg_sale = pd.DataFrame(avg_sale)\n",
    "TrainSubsetUnique['Monthly_avg_sales'] = avg_sale['Weekly_Sales'].values\n",
    "\n",
    "test['Weekly_Sales'] = 0\n"
   ]
  },
  {
   "cell_type": "markdown",
   "metadata": {},
   "source": [
    "<h2>Approach for prediction</h2>\n",
    "1. Get store-dept-year-month tuple of test set (one by one)\n",
    "2. For each tuple find corresponding tuple with previous year - and get avg sale that time\n",
    "3. Predict that avg_sale as weekly sale for current tuple"
   ]
  },
  {
   "cell_type": "code",
   "execution_count": 5,
   "metadata": {
    "collapsed": true
   },
   "outputs": [],
   "source": [
    "#Baseline model predictions\n",
    "\n",
    "for i in range(len(test)):\n",
    "    t = test.iloc[i, [0,1,4,5]]\n",
    "    sale = TrainSubsetUnique.loc[(TrainSubsetUnique['Store']==t[0]) & (TrainSubsetUnique['Dept']==t[1]) & (TrainSubsetUnique['Year']==t[2]-1) & (TrainSubsetUnique['Month']==t[3])]\n",
    "    if(len(sale) != 0):\n",
    "        sale = int(sale['Monthly_avg_sales'])\n",
    "        #print(sale)\n",
    "        test.iloc[i,7] = sale\n",
    "    else:\n",
    "        test.iloc[i,7] = 0\n",
    "        \n"
   ]
  },
  {
   "cell_type": "code",
   "execution_count": 6,
   "metadata": {
    "collapsed": true
   },
   "outputs": [],
   "source": [
    "#Saving output file\n",
    "\n",
    "test.to_csv(\"baseline_output.csv\")"
   ]
  },
  {
   "cell_type": "markdown",
   "metadata": {},
   "source": [
    "<h2>Further Approach for making baseline model even more better</h2>\n",
    "1. Currently it uses average of weekly sales over corresponding month in previous year.\n",
    "2. By proper feature engineering, predict weekly sales of previous year corresponding week and it will give much better predictions."
   ]
  },
  {
   "cell_type": "code",
   "execution_count": null,
   "metadata": {
    "collapsed": true
   },
   "outputs": [],
   "source": []
  }
 ],
 "metadata": {
  "kernelspec": {
   "display_name": "Python 3",
   "language": "python",
   "name": "python3"
  },
  "language_info": {
   "codemirror_mode": {
    "name": "ipython",
    "version": 3
   },
   "file_extension": ".py",
   "mimetype": "text/x-python",
   "name": "python",
   "nbconvert_exporter": "python",
   "pygments_lexer": "ipython3",
   "version": "3.6.3"
  }
 },
 "nbformat": 4,
 "nbformat_minor": 2
}
