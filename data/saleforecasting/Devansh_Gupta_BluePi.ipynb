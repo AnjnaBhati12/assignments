{
 "cells": [
  {
   "cell_type": "code",
   "execution_count": 4,
   "metadata": {
    "colab": {},
    "colab_type": "code",
    "id": "fg3SxZbudaoS"
   },
   "outputs": [],
   "source": [
    "import pandas as pd\n",
    "import numpy as np\n",
    "\n",
    "import matplotlib.pyplot as plt\n",
    "import seaborn as sns\n",
    "\n",
    "import warnings\n",
    "warnings.filterwarnings(\"ignore\")"
   ]
  },
  {
   "cell_type": "markdown",
   "metadata": {},
   "source": [
    "### Read .CSV Files"
   ]
  },
  {
   "cell_type": "code",
   "execution_count": 8,
   "metadata": {
    "colab": {},
    "colab_type": "code",
    "id": "zoVIoX-QdapE"
   },
   "outputs": [],
   "source": [
    "features=pd.read_csv('features.csv')\n",
    "stores=pd.read_csv('stores.csv')\n",
    "train=pd.read_csv('train.csv')\n",
    "test=pd.read_csv('test.csv')"
   ]
  },
  {
   "cell_type": "code",
   "execution_count": 44,
   "metadata": {
    "colab": {
     "base_uri": "https://localhost:8080/",
     "height": 226
    },
    "colab_type": "code",
    "id": "-GhfmjGddapb",
    "outputId": "91c83fa8-72d8-4dda-d800-36134dc7dfc7"
   },
   "outputs": [
    {
     "data": {
      "text/html": [
       "<div>\n",
       "<style scoped>\n",
       "    .dataframe tbody tr th:only-of-type {\n",
       "        vertical-align: middle;\n",
       "    }\n",
       "\n",
       "    .dataframe tbody tr th {\n",
       "        vertical-align: top;\n",
       "    }\n",
       "\n",
       "    .dataframe thead th {\n",
       "        text-align: right;\n",
       "    }\n",
       "</style>\n",
       "<table border=\"1\" class=\"dataframe\">\n",
       "  <thead>\n",
       "    <tr style=\"text-align: right;\">\n",
       "      <th></th>\n",
       "      <th>Store</th>\n",
       "      <th>Date</th>\n",
       "      <th>Temperature</th>\n",
       "      <th>Fuel_Price</th>\n",
       "      <th>MarkDown1</th>\n",
       "      <th>MarkDown2</th>\n",
       "      <th>MarkDown3</th>\n",
       "      <th>MarkDown4</th>\n",
       "      <th>MarkDown5</th>\n",
       "      <th>CPI</th>\n",
       "      <th>Unemployment</th>\n",
       "      <th>IsHoliday</th>\n",
       "    </tr>\n",
       "  </thead>\n",
       "  <tbody>\n",
       "    <tr>\n",
       "      <th>0</th>\n",
       "      <td>1</td>\n",
       "      <td>2010-02-05</td>\n",
       "      <td>42.31</td>\n",
       "      <td>2.572</td>\n",
       "      <td>NaN</td>\n",
       "      <td>NaN</td>\n",
       "      <td>NaN</td>\n",
       "      <td>NaN</td>\n",
       "      <td>NaN</td>\n",
       "      <td>211.096358</td>\n",
       "      <td>8.106</td>\n",
       "      <td>False</td>\n",
       "    </tr>\n",
       "    <tr>\n",
       "      <th>1</th>\n",
       "      <td>1</td>\n",
       "      <td>2010-02-12</td>\n",
       "      <td>38.51</td>\n",
       "      <td>2.548</td>\n",
       "      <td>NaN</td>\n",
       "      <td>NaN</td>\n",
       "      <td>NaN</td>\n",
       "      <td>NaN</td>\n",
       "      <td>NaN</td>\n",
       "      <td>211.242170</td>\n",
       "      <td>8.106</td>\n",
       "      <td>True</td>\n",
       "    </tr>\n",
       "    <tr>\n",
       "      <th>2</th>\n",
       "      <td>1</td>\n",
       "      <td>2010-02-19</td>\n",
       "      <td>39.93</td>\n",
       "      <td>2.514</td>\n",
       "      <td>NaN</td>\n",
       "      <td>NaN</td>\n",
       "      <td>NaN</td>\n",
       "      <td>NaN</td>\n",
       "      <td>NaN</td>\n",
       "      <td>211.289143</td>\n",
       "      <td>8.106</td>\n",
       "      <td>False</td>\n",
       "    </tr>\n",
       "    <tr>\n",
       "      <th>3</th>\n",
       "      <td>1</td>\n",
       "      <td>2010-02-26</td>\n",
       "      <td>46.63</td>\n",
       "      <td>2.561</td>\n",
       "      <td>NaN</td>\n",
       "      <td>NaN</td>\n",
       "      <td>NaN</td>\n",
       "      <td>NaN</td>\n",
       "      <td>NaN</td>\n",
       "      <td>211.319643</td>\n",
       "      <td>8.106</td>\n",
       "      <td>False</td>\n",
       "    </tr>\n",
       "    <tr>\n",
       "      <th>4</th>\n",
       "      <td>1</td>\n",
       "      <td>2010-03-05</td>\n",
       "      <td>46.50</td>\n",
       "      <td>2.625</td>\n",
       "      <td>NaN</td>\n",
       "      <td>NaN</td>\n",
       "      <td>NaN</td>\n",
       "      <td>NaN</td>\n",
       "      <td>NaN</td>\n",
       "      <td>211.350143</td>\n",
       "      <td>8.106</td>\n",
       "      <td>False</td>\n",
       "    </tr>\n",
       "  </tbody>\n",
       "</table>\n",
       "</div>"
      ],
      "text/plain": [
       "   Store        Date  Temperature  ...         CPI  Unemployment  IsHoliday\n",
       "0      1  2010-02-05        42.31  ...  211.096358         8.106      False\n",
       "1      1  2010-02-12        38.51  ...  211.242170         8.106       True\n",
       "2      1  2010-02-19        39.93  ...  211.289143         8.106      False\n",
       "3      1  2010-02-26        46.63  ...  211.319643         8.106      False\n",
       "4      1  2010-03-05        46.50  ...  211.350143         8.106      False\n",
       "\n",
       "[5 rows x 12 columns]"
      ]
     },
     "execution_count": 44,
     "metadata": {
      "tags": []
     },
     "output_type": "execute_result"
    }
   ],
   "source": [
    "features.head()# Use Head Function to get top five rows from data set."
   ]
  },
  {
   "cell_type": "code",
   "execution_count": 45,
   "metadata": {
    "colab": {
     "base_uri": "https://localhost:8080/",
     "height": 206
    },
    "colab_type": "code",
    "id": "FIn3ctkcdapv",
    "outputId": "410f2ff0-d90c-465c-8899-1ddf688e59ae"
   },
   "outputs": [
    {
     "data": {
      "text/html": [
       "<div>\n",
       "<style scoped>\n",
       "    .dataframe tbody tr th:only-of-type {\n",
       "        vertical-align: middle;\n",
       "    }\n",
       "\n",
       "    .dataframe tbody tr th {\n",
       "        vertical-align: top;\n",
       "    }\n",
       "\n",
       "    .dataframe thead th {\n",
       "        text-align: right;\n",
       "    }\n",
       "</style>\n",
       "<table border=\"1\" class=\"dataframe\">\n",
       "  <thead>\n",
       "    <tr style=\"text-align: right;\">\n",
       "      <th></th>\n",
       "      <th>Store</th>\n",
       "      <th>Dept</th>\n",
       "      <th>Date</th>\n",
       "      <th>Weekly_Sales</th>\n",
       "      <th>IsHoliday</th>\n",
       "    </tr>\n",
       "  </thead>\n",
       "  <tbody>\n",
       "    <tr>\n",
       "      <th>0</th>\n",
       "      <td>1</td>\n",
       "      <td>1</td>\n",
       "      <td>2010-02-05</td>\n",
       "      <td>24924.50</td>\n",
       "      <td>False</td>\n",
       "    </tr>\n",
       "    <tr>\n",
       "      <th>1</th>\n",
       "      <td>1</td>\n",
       "      <td>1</td>\n",
       "      <td>2010-02-12</td>\n",
       "      <td>46039.49</td>\n",
       "      <td>True</td>\n",
       "    </tr>\n",
       "    <tr>\n",
       "      <th>2</th>\n",
       "      <td>1</td>\n",
       "      <td>1</td>\n",
       "      <td>2010-02-19</td>\n",
       "      <td>41595.55</td>\n",
       "      <td>False</td>\n",
       "    </tr>\n",
       "    <tr>\n",
       "      <th>3</th>\n",
       "      <td>1</td>\n",
       "      <td>1</td>\n",
       "      <td>2010-02-26</td>\n",
       "      <td>19403.54</td>\n",
       "      <td>False</td>\n",
       "    </tr>\n",
       "    <tr>\n",
       "      <th>4</th>\n",
       "      <td>1</td>\n",
       "      <td>1</td>\n",
       "      <td>2010-03-05</td>\n",
       "      <td>21827.90</td>\n",
       "      <td>False</td>\n",
       "    </tr>\n",
       "  </tbody>\n",
       "</table>\n",
       "</div>"
      ],
      "text/plain": [
       "   Store  Dept        Date  Weekly_Sales  IsHoliday\n",
       "0      1     1  2010-02-05      24924.50      False\n",
       "1      1     1  2010-02-12      46039.49       True\n",
       "2      1     1  2010-02-19      41595.55      False\n",
       "3      1     1  2010-02-26      19403.54      False\n",
       "4      1     1  2010-03-05      21827.90      False"
      ]
     },
     "execution_count": 45,
     "metadata": {
      "tags": []
     },
     "output_type": "execute_result"
    }
   ],
   "source": [
    "train.head()"
   ]
  },
  {
   "cell_type": "code",
   "execution_count": 46,
   "metadata": {
    "colab": {
     "base_uri": "https://localhost:8080/",
     "height": 206
    },
    "colab_type": "code",
    "id": "LARwvqFgdaqA",
    "outputId": "90efa1fa-ad5c-4c50-b981-32ba782ee3c3"
   },
   "outputs": [
    {
     "data": {
      "text/html": [
       "<div>\n",
       "<style scoped>\n",
       "    .dataframe tbody tr th:only-of-type {\n",
       "        vertical-align: middle;\n",
       "    }\n",
       "\n",
       "    .dataframe tbody tr th {\n",
       "        vertical-align: top;\n",
       "    }\n",
       "\n",
       "    .dataframe thead th {\n",
       "        text-align: right;\n",
       "    }\n",
       "</style>\n",
       "<table border=\"1\" class=\"dataframe\">\n",
       "  <thead>\n",
       "    <tr style=\"text-align: right;\">\n",
       "      <th></th>\n",
       "      <th>Store</th>\n",
       "      <th>Dept</th>\n",
       "      <th>Date</th>\n",
       "      <th>IsHoliday</th>\n",
       "    </tr>\n",
       "  </thead>\n",
       "  <tbody>\n",
       "    <tr>\n",
       "      <th>0</th>\n",
       "      <td>1</td>\n",
       "      <td>1</td>\n",
       "      <td>2012-11-02</td>\n",
       "      <td>False</td>\n",
       "    </tr>\n",
       "    <tr>\n",
       "      <th>1</th>\n",
       "      <td>1</td>\n",
       "      <td>1</td>\n",
       "      <td>2012-11-09</td>\n",
       "      <td>False</td>\n",
       "    </tr>\n",
       "    <tr>\n",
       "      <th>2</th>\n",
       "      <td>1</td>\n",
       "      <td>1</td>\n",
       "      <td>2012-11-16</td>\n",
       "      <td>False</td>\n",
       "    </tr>\n",
       "    <tr>\n",
       "      <th>3</th>\n",
       "      <td>1</td>\n",
       "      <td>1</td>\n",
       "      <td>2012-11-23</td>\n",
       "      <td>True</td>\n",
       "    </tr>\n",
       "    <tr>\n",
       "      <th>4</th>\n",
       "      <td>1</td>\n",
       "      <td>1</td>\n",
       "      <td>2012-11-30</td>\n",
       "      <td>False</td>\n",
       "    </tr>\n",
       "  </tbody>\n",
       "</table>\n",
       "</div>"
      ],
      "text/plain": [
       "   Store  Dept        Date  IsHoliday\n",
       "0      1     1  2012-11-02      False\n",
       "1      1     1  2012-11-09      False\n",
       "2      1     1  2012-11-16      False\n",
       "3      1     1  2012-11-23       True\n",
       "4      1     1  2012-11-30      False"
      ]
     },
     "execution_count": 46,
     "metadata": {
      "tags": []
     },
     "output_type": "execute_result"
    }
   ],
   "source": [
    "test.head()"
   ]
  },
  {
   "cell_type": "code",
   "execution_count": 47,
   "metadata": {
    "colab": {
     "base_uri": "https://localhost:8080/",
     "height": 206
    },
    "colab_type": "code",
    "id": "jWUBPh1vdaqQ",
    "outputId": "bace53a7-4c9a-4574-be84-8ac30b24e1be"
   },
   "outputs": [
    {
     "data": {
      "text/html": [
       "<div>\n",
       "<style scoped>\n",
       "    .dataframe tbody tr th:only-of-type {\n",
       "        vertical-align: middle;\n",
       "    }\n",
       "\n",
       "    .dataframe tbody tr th {\n",
       "        vertical-align: top;\n",
       "    }\n",
       "\n",
       "    .dataframe thead th {\n",
       "        text-align: right;\n",
       "    }\n",
       "</style>\n",
       "<table border=\"1\" class=\"dataframe\">\n",
       "  <thead>\n",
       "    <tr style=\"text-align: right;\">\n",
       "      <th></th>\n",
       "      <th>Store</th>\n",
       "      <th>Type</th>\n",
       "      <th>Size</th>\n",
       "    </tr>\n",
       "  </thead>\n",
       "  <tbody>\n",
       "    <tr>\n",
       "      <th>0</th>\n",
       "      <td>1</td>\n",
       "      <td>A</td>\n",
       "      <td>151315</td>\n",
       "    </tr>\n",
       "    <tr>\n",
       "      <th>1</th>\n",
       "      <td>2</td>\n",
       "      <td>A</td>\n",
       "      <td>202307</td>\n",
       "    </tr>\n",
       "    <tr>\n",
       "      <th>2</th>\n",
       "      <td>3</td>\n",
       "      <td>B</td>\n",
       "      <td>37392</td>\n",
       "    </tr>\n",
       "    <tr>\n",
       "      <th>3</th>\n",
       "      <td>4</td>\n",
       "      <td>A</td>\n",
       "      <td>205863</td>\n",
       "    </tr>\n",
       "    <tr>\n",
       "      <th>4</th>\n",
       "      <td>5</td>\n",
       "      <td>B</td>\n",
       "      <td>34875</td>\n",
       "    </tr>\n",
       "  </tbody>\n",
       "</table>\n",
       "</div>"
      ],
      "text/plain": [
       "   Store Type    Size\n",
       "0      1    A  151315\n",
       "1      2    A  202307\n",
       "2      3    B   37392\n",
       "3      4    A  205863\n",
       "4      5    B   34875"
      ]
     },
     "execution_count": 47,
     "metadata": {
      "tags": []
     },
     "output_type": "execute_result"
    }
   ],
   "source": [
    "stores.head()"
   ]
  },
  {
   "cell_type": "code",
   "execution_count": 0,
   "metadata": {
    "colab": {},
    "colab_type": "code",
    "id": "wQtF0D39daqe",
    "outputId": "730f3c12-2868-4b38-d4c2-3ecfaa41108c"
   },
   "outputs": [
    {
     "data": {
      "text/plain": [
       "(421570, 5)"
      ]
     },
     "execution_count": 8,
     "metadata": {
      "tags": []
     },
     "output_type": "execute_result"
    }
   ],
   "source": [
    "train.shape# Using Shape to get the number of rows and columns in dataset"
   ]
  },
  {
   "cell_type": "code",
   "execution_count": 0,
   "metadata": {
    "colab": {},
    "colab_type": "code",
    "id": "GHXaE8GBdaqv",
    "outputId": "a7e44c8d-7c41-40e4-b866-45bea0f40cdc"
   },
   "outputs": [
    {
     "data": {
      "text/plain": [
       "(115064, 4)"
      ]
     },
     "execution_count": 9,
     "metadata": {
      "tags": []
     },
     "output_type": "execute_result"
    }
   ],
   "source": [
    "test.shape"
   ]
  },
  {
   "cell_type": "markdown",
   "metadata": {},
   "source": [
    "### Merge Train and Test data"
   ]
  },
  {
   "cell_type": "code",
   "execution_count": 9,
   "metadata": {
    "colab": {},
    "colab_type": "code",
    "id": "_eNMenKpdarC"
   },
   "outputs": [],
   "source": [
    "train['data']='train'\n",
    "test['data']='test'\n",
    "test['Weekly_Sales']=np.nan\n",
    "test=test[train.columns]\n",
    "data=pd.concat([train,test],axis=0)"
   ]
  },
  {
   "cell_type": "markdown",
   "metadata": {},
   "source": [
    "### Merging all dataset "
   ]
  },
  {
   "cell_type": "code",
   "execution_count": 10,
   "metadata": {
    "colab": {},
    "colab_type": "code",
    "id": "62tF0dpadarR"
   },
   "outputs": [],
   "source": [
    "data=data.merge(features,how='left')\n",
    "data=data.merge(stores,how='left')"
   ]
  },
  {
   "cell_type": "code",
   "execution_count": 11,
   "metadata": {
    "colab": {},
    "colab_type": "code",
    "id": "R62sLqKqdarl"
   },
   "outputs": [],
   "source": [
    "train=test=features=None # Clearing space from memory"
   ]
  },
  {
   "cell_type": "code",
   "execution_count": 0,
   "metadata": {
    "colab": {},
    "colab_type": "code",
    "id": "vORXUbOadarx",
    "outputId": "7686e3b9-d44e-409b-f658-565a4aeded25"
   },
   "outputs": [
    {
     "data": {
      "text/html": [
       "<div>\n",
       "<style scoped>\n",
       "    .dataframe tbody tr th:only-of-type {\n",
       "        vertical-align: middle;\n",
       "    }\n",
       "\n",
       "    .dataframe tbody tr th {\n",
       "        vertical-align: top;\n",
       "    }\n",
       "\n",
       "    .dataframe thead th {\n",
       "        text-align: right;\n",
       "    }\n",
       "</style>\n",
       "<table border=\"1\" class=\"dataframe\">\n",
       "  <thead>\n",
       "    <tr style=\"text-align: right;\">\n",
       "      <th></th>\n",
       "      <th>Store</th>\n",
       "      <th>Dept</th>\n",
       "      <th>Date</th>\n",
       "      <th>Weekly_Sales</th>\n",
       "      <th>IsHoliday</th>\n",
       "      <th>data</th>\n",
       "      <th>Temperature</th>\n",
       "      <th>Fuel_Price</th>\n",
       "      <th>MarkDown1</th>\n",
       "      <th>MarkDown2</th>\n",
       "      <th>MarkDown3</th>\n",
       "      <th>MarkDown4</th>\n",
       "      <th>MarkDown5</th>\n",
       "      <th>CPI</th>\n",
       "      <th>Unemployment</th>\n",
       "      <th>Type</th>\n",
       "      <th>Size</th>\n",
       "    </tr>\n",
       "  </thead>\n",
       "  <tbody>\n",
       "    <tr>\n",
       "      <th>0</th>\n",
       "      <td>1</td>\n",
       "      <td>1</td>\n",
       "      <td>2010-02-05</td>\n",
       "      <td>24924.50</td>\n",
       "      <td>False</td>\n",
       "      <td>train</td>\n",
       "      <td>42.31</td>\n",
       "      <td>2.572</td>\n",
       "      <td>NaN</td>\n",
       "      <td>NaN</td>\n",
       "      <td>NaN</td>\n",
       "      <td>NaN</td>\n",
       "      <td>NaN</td>\n",
       "      <td>211.096358</td>\n",
       "      <td>8.106</td>\n",
       "      <td>A</td>\n",
       "      <td>151315</td>\n",
       "    </tr>\n",
       "    <tr>\n",
       "      <th>1</th>\n",
       "      <td>1</td>\n",
       "      <td>1</td>\n",
       "      <td>2010-02-12</td>\n",
       "      <td>46039.49</td>\n",
       "      <td>True</td>\n",
       "      <td>train</td>\n",
       "      <td>38.51</td>\n",
       "      <td>2.548</td>\n",
       "      <td>NaN</td>\n",
       "      <td>NaN</td>\n",
       "      <td>NaN</td>\n",
       "      <td>NaN</td>\n",
       "      <td>NaN</td>\n",
       "      <td>211.242170</td>\n",
       "      <td>8.106</td>\n",
       "      <td>A</td>\n",
       "      <td>151315</td>\n",
       "    </tr>\n",
       "    <tr>\n",
       "      <th>2</th>\n",
       "      <td>1</td>\n",
       "      <td>1</td>\n",
       "      <td>2010-02-19</td>\n",
       "      <td>41595.55</td>\n",
       "      <td>False</td>\n",
       "      <td>train</td>\n",
       "      <td>39.93</td>\n",
       "      <td>2.514</td>\n",
       "      <td>NaN</td>\n",
       "      <td>NaN</td>\n",
       "      <td>NaN</td>\n",
       "      <td>NaN</td>\n",
       "      <td>NaN</td>\n",
       "      <td>211.289143</td>\n",
       "      <td>8.106</td>\n",
       "      <td>A</td>\n",
       "      <td>151315</td>\n",
       "    </tr>\n",
       "    <tr>\n",
       "      <th>3</th>\n",
       "      <td>1</td>\n",
       "      <td>1</td>\n",
       "      <td>2010-02-26</td>\n",
       "      <td>19403.54</td>\n",
       "      <td>False</td>\n",
       "      <td>train</td>\n",
       "      <td>46.63</td>\n",
       "      <td>2.561</td>\n",
       "      <td>NaN</td>\n",
       "      <td>NaN</td>\n",
       "      <td>NaN</td>\n",
       "      <td>NaN</td>\n",
       "      <td>NaN</td>\n",
       "      <td>211.319643</td>\n",
       "      <td>8.106</td>\n",
       "      <td>A</td>\n",
       "      <td>151315</td>\n",
       "    </tr>\n",
       "    <tr>\n",
       "      <th>4</th>\n",
       "      <td>1</td>\n",
       "      <td>1</td>\n",
       "      <td>2010-03-05</td>\n",
       "      <td>21827.90</td>\n",
       "      <td>False</td>\n",
       "      <td>train</td>\n",
       "      <td>46.50</td>\n",
       "      <td>2.625</td>\n",
       "      <td>NaN</td>\n",
       "      <td>NaN</td>\n",
       "      <td>NaN</td>\n",
       "      <td>NaN</td>\n",
       "      <td>NaN</td>\n",
       "      <td>211.350143</td>\n",
       "      <td>8.106</td>\n",
       "      <td>A</td>\n",
       "      <td>151315</td>\n",
       "    </tr>\n",
       "  </tbody>\n",
       "</table>\n",
       "</div>"
      ],
      "text/plain": [
       "   Store  Dept        Date  Weekly_Sales  IsHoliday   data  Temperature  \\\n",
       "0      1     1  2010-02-05      24924.50      False  train        42.31   \n",
       "1      1     1  2010-02-12      46039.49       True  train        38.51   \n",
       "2      1     1  2010-02-19      41595.55      False  train        39.93   \n",
       "3      1     1  2010-02-26      19403.54      False  train        46.63   \n",
       "4      1     1  2010-03-05      21827.90      False  train        46.50   \n",
       "\n",
       "   Fuel_Price  MarkDown1  MarkDown2  MarkDown3  MarkDown4  MarkDown5  \\\n",
       "0       2.572        NaN        NaN        NaN        NaN        NaN   \n",
       "1       2.548        NaN        NaN        NaN        NaN        NaN   \n",
       "2       2.514        NaN        NaN        NaN        NaN        NaN   \n",
       "3       2.561        NaN        NaN        NaN        NaN        NaN   \n",
       "4       2.625        NaN        NaN        NaN        NaN        NaN   \n",
       "\n",
       "          CPI  Unemployment Type    Size  \n",
       "0  211.096358         8.106    A  151315  \n",
       "1  211.242170         8.106    A  151315  \n",
       "2  211.289143         8.106    A  151315  \n",
       "3  211.319643         8.106    A  151315  \n",
       "4  211.350143         8.106    A  151315  "
      ]
     },
     "execution_count": 37,
     "metadata": {
      "tags": []
     },
     "output_type": "execute_result"
    }
   ],
   "source": [
    "data.head()"
   ]
  },
  {
   "cell_type": "code",
   "execution_count": 51,
   "metadata": {
    "colab": {
     "base_uri": "https://localhost:8080/",
     "height": 417
    },
    "colab_type": "code",
    "id": "7ZdFs6tKdasB",
    "outputId": "15687d6d-be5f-41f3-c733-44634e569f93"
   },
   "outputs": [
    {
     "name": "stdout",
     "output_type": "stream",
     "text": [
      "<class 'pandas.core.frame.DataFrame'>\n",
      "Int64Index: 536634 entries, 0 to 536633\n",
      "Data columns (total 17 columns):\n",
      "Store           536634 non-null int64\n",
      "Dept            536634 non-null int64\n",
      "Date            536634 non-null object\n",
      "Weekly_Sales    421570 non-null float64\n",
      "IsHoliday       536634 non-null bool\n",
      "data            536634 non-null object\n",
      "Temperature     536634 non-null float64\n",
      "Fuel_Price      536634 non-null float64\n",
      "MarkDown1       265596 non-null float64\n",
      "MarkDown2       197685 non-null float64\n",
      "MarkDown3       242326 non-null float64\n",
      "MarkDown4       237143 non-null float64\n",
      "MarkDown5       266496 non-null float64\n",
      "CPI             498472 non-null float64\n",
      "Unemployment    498472 non-null float64\n",
      "Type            536634 non-null object\n",
      "Size            536634 non-null int64\n",
      "dtypes: bool(1), float64(10), int64(3), object(3)\n",
      "memory usage: 70.1+ MB\n"
     ]
    }
   ],
   "source": [
    "data.info()# Using info function to know null values,no.of columns,no.of rows,datatypes. "
   ]
  },
  {
   "cell_type": "code",
   "execution_count": 52,
   "metadata": {
    "colab": {
     "base_uri": "https://localhost:8080/",
     "height": 345
    },
    "colab_type": "code",
    "id": "eKWT7dtpdasN",
    "outputId": "90f6f0ed-64a2-4f78-8ec7-c50697f433b6"
   },
   "outputs": [
    {
     "data": {
      "text/plain": [
       "Store            0.000000\n",
       "Dept             0.000000\n",
       "Date             0.000000\n",
       "Weekly_Sales    21.441802\n",
       "IsHoliday        0.000000\n",
       "data             0.000000\n",
       "Temperature      0.000000\n",
       "Fuel_Price       0.000000\n",
       "MarkDown1       50.507049\n",
       "MarkDown2       63.162043\n",
       "MarkDown3       54.843338\n",
       "MarkDown4       55.809173\n",
       "MarkDown5       50.339337\n",
       "CPI              7.111365\n",
       "Unemployment     7.111365\n",
       "Type             0.000000\n",
       "Size             0.000000\n",
       "dtype: float64"
      ]
     },
     "execution_count": 52,
     "metadata": {
      "tags": []
     },
     "output_type": "execute_result"
    }
   ],
   "source": [
    "data.isnull().sum()/len(data)*100# using isnull() to know the percentage of null values."
   ]
  },
  {
   "cell_type": "markdown",
   "metadata": {},
   "source": [
    "### Null values implimentation\n",
    "#### Fill Null values in Markdown with 0 as no promotions were running during that period."
   ]
  },
  {
   "cell_type": "code",
   "execution_count": 12,
   "metadata": {
    "colab": {},
    "colab_type": "code",
    "id": "lw717DR1dasY"
   },
   "outputs": [],
   "source": [
    "# Replaceing Negative Value in MarkDown with 0 \n",
    "data['MarkDown1']=data['MarkDown1'].apply(lambda x:0 if x<0 else x)\n",
    "data['MarkDown2']=data['MarkDown2'].apply(lambda x:0 if x<0 else x)\n",
    "data['MarkDown3']=data['MarkDown3'].apply(lambda x:0 if x<0 else x)\n",
    "data['MarkDown4']=data['MarkDown4'].apply(lambda x:0 if x<0 else x)\n",
    "data['MarkDown5']=data['MarkDown5'].apply(lambda x:0 if x<0 else x)"
   ]
  },
  {
   "cell_type": "code",
   "execution_count": 13,
   "metadata": {
    "colab": {},
    "colab_type": "code",
    "id": "8xNwMcuxdasi"
   },
   "outputs": [],
   "source": [
    "data['MarkDown1'].fillna(0,inplace=True)\n",
    "data['MarkDown2'].fillna(0,inplace=True)\n",
    "data['MarkDown3'].fillna(0,inplace=True)\n",
    "data['MarkDown4'].fillna(0,inplace=True)\n",
    "data['MarkDown5'].fillna(0,inplace=True)"
   ]
  },
  {
   "cell_type": "code",
   "execution_count": 14,
   "metadata": {
    "colab": {},
    "colab_type": "code",
    "id": "wYfcSlwcdasu"
   },
   "outputs": [],
   "source": [
    "# Change Datatype of Date Column to Datetime\n",
    "data['Date']=pd.to_datetime(data['Date'])"
   ]
  },
  {
   "cell_type": "markdown",
   "metadata": {},
   "source": [
    "### Extract Year,Month,Date,Week from Date "
   ]
  },
  {
   "cell_type": "code",
   "execution_count": 15,
   "metadata": {
    "colab": {},
    "colab_type": "code",
    "id": "yC3GJT3Wdas7"
   },
   "outputs": [],
   "source": [
    "data['Year']=data.Date.dt.year\n",
    "data['Month']=data.Date.dt.month\n",
    "data['Week']=data.Date.dt.week\n",
    "data['Day']=data.Date.dt.day"
   ]
  },
  {
   "cell_type": "code",
   "execution_count": 11,
   "metadata": {
    "colab": {
     "base_uri": "https://localhost:8080/",
     "height": 226
    },
    "colab_type": "code",
    "id": "0tM7A7mXdatG",
    "outputId": "b327ca42-1cb4-493b-d0db-218b319da212"
   },
   "outputs": [
    {
     "data": {
      "text/html": [
       "<div>\n",
       "<style scoped>\n",
       "    .dataframe tbody tr th:only-of-type {\n",
       "        vertical-align: middle;\n",
       "    }\n",
       "\n",
       "    .dataframe tbody tr th {\n",
       "        vertical-align: top;\n",
       "    }\n",
       "\n",
       "    .dataframe thead th {\n",
       "        text-align: right;\n",
       "    }\n",
       "</style>\n",
       "<table border=\"1\" class=\"dataframe\">\n",
       "  <thead>\n",
       "    <tr style=\"text-align: right;\">\n",
       "      <th></th>\n",
       "      <th>Store</th>\n",
       "      <th>Dept</th>\n",
       "      <th>Date</th>\n",
       "      <th>Weekly_Sales</th>\n",
       "      <th>IsHoliday</th>\n",
       "      <th>data</th>\n",
       "      <th>Temperature</th>\n",
       "      <th>Fuel_Price</th>\n",
       "      <th>MarkDown1</th>\n",
       "      <th>MarkDown2</th>\n",
       "      <th>MarkDown3</th>\n",
       "      <th>MarkDown4</th>\n",
       "      <th>MarkDown5</th>\n",
       "      <th>CPI</th>\n",
       "      <th>Unemployment</th>\n",
       "      <th>Type</th>\n",
       "      <th>Size</th>\n",
       "      <th>Year</th>\n",
       "      <th>Month</th>\n",
       "      <th>Week</th>\n",
       "      <th>Day</th>\n",
       "    </tr>\n",
       "  </thead>\n",
       "  <tbody>\n",
       "    <tr>\n",
       "      <th>0</th>\n",
       "      <td>1</td>\n",
       "      <td>1</td>\n",
       "      <td>2010-02-05</td>\n",
       "      <td>24924.50</td>\n",
       "      <td>False</td>\n",
       "      <td>train</td>\n",
       "      <td>42.31</td>\n",
       "      <td>2.572</td>\n",
       "      <td>0.0</td>\n",
       "      <td>0.0</td>\n",
       "      <td>0.0</td>\n",
       "      <td>0.0</td>\n",
       "      <td>0.0</td>\n",
       "      <td>211.096358</td>\n",
       "      <td>8.106</td>\n",
       "      <td>A</td>\n",
       "      <td>151315</td>\n",
       "      <td>2010</td>\n",
       "      <td>2</td>\n",
       "      <td>5</td>\n",
       "      <td>5</td>\n",
       "    </tr>\n",
       "    <tr>\n",
       "      <th>1</th>\n",
       "      <td>1</td>\n",
       "      <td>1</td>\n",
       "      <td>2010-02-12</td>\n",
       "      <td>46039.49</td>\n",
       "      <td>True</td>\n",
       "      <td>train</td>\n",
       "      <td>38.51</td>\n",
       "      <td>2.548</td>\n",
       "      <td>0.0</td>\n",
       "      <td>0.0</td>\n",
       "      <td>0.0</td>\n",
       "      <td>0.0</td>\n",
       "      <td>0.0</td>\n",
       "      <td>211.242170</td>\n",
       "      <td>8.106</td>\n",
       "      <td>A</td>\n",
       "      <td>151315</td>\n",
       "      <td>2010</td>\n",
       "      <td>2</td>\n",
       "      <td>6</td>\n",
       "      <td>12</td>\n",
       "    </tr>\n",
       "    <tr>\n",
       "      <th>2</th>\n",
       "      <td>1</td>\n",
       "      <td>1</td>\n",
       "      <td>2010-02-19</td>\n",
       "      <td>41595.55</td>\n",
       "      <td>False</td>\n",
       "      <td>train</td>\n",
       "      <td>39.93</td>\n",
       "      <td>2.514</td>\n",
       "      <td>0.0</td>\n",
       "      <td>0.0</td>\n",
       "      <td>0.0</td>\n",
       "      <td>0.0</td>\n",
       "      <td>0.0</td>\n",
       "      <td>211.289143</td>\n",
       "      <td>8.106</td>\n",
       "      <td>A</td>\n",
       "      <td>151315</td>\n",
       "      <td>2010</td>\n",
       "      <td>2</td>\n",
       "      <td>7</td>\n",
       "      <td>19</td>\n",
       "    </tr>\n",
       "    <tr>\n",
       "      <th>3</th>\n",
       "      <td>1</td>\n",
       "      <td>1</td>\n",
       "      <td>2010-02-26</td>\n",
       "      <td>19403.54</td>\n",
       "      <td>False</td>\n",
       "      <td>train</td>\n",
       "      <td>46.63</td>\n",
       "      <td>2.561</td>\n",
       "      <td>0.0</td>\n",
       "      <td>0.0</td>\n",
       "      <td>0.0</td>\n",
       "      <td>0.0</td>\n",
       "      <td>0.0</td>\n",
       "      <td>211.319643</td>\n",
       "      <td>8.106</td>\n",
       "      <td>A</td>\n",
       "      <td>151315</td>\n",
       "      <td>2010</td>\n",
       "      <td>2</td>\n",
       "      <td>8</td>\n",
       "      <td>26</td>\n",
       "    </tr>\n",
       "    <tr>\n",
       "      <th>4</th>\n",
       "      <td>1</td>\n",
       "      <td>1</td>\n",
       "      <td>2010-03-05</td>\n",
       "      <td>21827.90</td>\n",
       "      <td>False</td>\n",
       "      <td>train</td>\n",
       "      <td>46.50</td>\n",
       "      <td>2.625</td>\n",
       "      <td>0.0</td>\n",
       "      <td>0.0</td>\n",
       "      <td>0.0</td>\n",
       "      <td>0.0</td>\n",
       "      <td>0.0</td>\n",
       "      <td>211.350143</td>\n",
       "      <td>8.106</td>\n",
       "      <td>A</td>\n",
       "      <td>151315</td>\n",
       "      <td>2010</td>\n",
       "      <td>3</td>\n",
       "      <td>9</td>\n",
       "      <td>5</td>\n",
       "    </tr>\n",
       "  </tbody>\n",
       "</table>\n",
       "</div>"
      ],
      "text/plain": [
       "   Store  Dept       Date  Weekly_Sales  ...  Year Month  Week  Day\n",
       "0      1     1 2010-02-05      24924.50  ...  2010     2     5    5\n",
       "1      1     1 2010-02-12      46039.49  ...  2010     2     6   12\n",
       "2      1     1 2010-02-19      41595.55  ...  2010     2     7   19\n",
       "3      1     1 2010-02-26      19403.54  ...  2010     2     8   26\n",
       "4      1     1 2010-03-05      21827.90  ...  2010     3     9    5\n",
       "\n",
       "[5 rows x 21 columns]"
      ]
     },
     "execution_count": 11,
     "metadata": {
      "tags": []
     },
     "output_type": "execute_result"
    }
   ],
   "source": [
    "data.head()"
   ]
  },
  {
   "cell_type": "markdown",
   "metadata": {},
   "source": [
    "### Fill Null values in CPI and Unemployment "
   ]
  },
  {
   "cell_type": "code",
   "execution_count": 0,
   "metadata": {
    "colab": {},
    "colab_type": "code",
    "id": "Rc4ylFWGdatT",
    "outputId": "1b176992-5702-44fb-887c-22034fb6ca7a"
   },
   "outputs": [
    {
     "data": {
      "text/html": [
       "<div>\n",
       "<style scoped>\n",
       "    .dataframe tbody tr th:only-of-type {\n",
       "        vertical-align: middle;\n",
       "    }\n",
       "\n",
       "    .dataframe tbody tr th {\n",
       "        vertical-align: top;\n",
       "    }\n",
       "\n",
       "    .dataframe thead th {\n",
       "        text-align: right;\n",
       "    }\n",
       "</style>\n",
       "<table border=\"1\" class=\"dataframe\">\n",
       "  <thead>\n",
       "    <tr style=\"text-align: right;\">\n",
       "      <th></th>\n",
       "      <th>Year</th>\n",
       "      <th>Month</th>\n",
       "      <th>Store</th>\n",
       "      <th>CPI</th>\n",
       "      <th>Unemployment</th>\n",
       "    </tr>\n",
       "  </thead>\n",
       "  <tbody>\n",
       "    <tr>\n",
       "      <th>0</th>\n",
       "      <td>2010</td>\n",
       "      <td>2</td>\n",
       "      <td>1</td>\n",
       "      <td>211.236524</td>\n",
       "      <td>8.106</td>\n",
       "    </tr>\n",
       "    <tr>\n",
       "      <th>1</th>\n",
       "      <td>2010</td>\n",
       "      <td>2</td>\n",
       "      <td>2</td>\n",
       "      <td>210.892912</td>\n",
       "      <td>8.324</td>\n",
       "    </tr>\n",
       "    <tr>\n",
       "      <th>2</th>\n",
       "      <td>2010</td>\n",
       "      <td>2</td>\n",
       "      <td>3</td>\n",
       "      <td>214.566108</td>\n",
       "      <td>7.368</td>\n",
       "    </tr>\n",
       "    <tr>\n",
       "      <th>3</th>\n",
       "      <td>2010</td>\n",
       "      <td>2</td>\n",
       "      <td>4</td>\n",
       "      <td>126.504332</td>\n",
       "      <td>8.623</td>\n",
       "    </tr>\n",
       "    <tr>\n",
       "      <th>4</th>\n",
       "      <td>2010</td>\n",
       "      <td>2</td>\n",
       "      <td>5</td>\n",
       "      <td>211.796322</td>\n",
       "      <td>6.566</td>\n",
       "    </tr>\n",
       "  </tbody>\n",
       "</table>\n",
       "</div>"
      ],
      "text/plain": [
       "   Year  Month  Store         CPI  Unemployment\n",
       "0  2010      2      1  211.236524         8.106\n",
       "1  2010      2      2  210.892912         8.324\n",
       "2  2010      2      3  214.566108         7.368\n",
       "3  2010      2      4  126.504332         8.623\n",
       "4  2010      2      5  211.796322         6.566"
      ]
     },
     "execution_count": 111,
     "metadata": {
      "tags": []
     },
     "output_type": "execute_result"
    }
   ],
   "source": [
    "data.groupby(['Year','Month','Store'])['CPI','Unemployment'].mean().reset_index().head()"
   ]
  },
  {
   "cell_type": "code",
   "execution_count": 2,
   "metadata": {},
   "outputs": [],
   "source": [
    "# We can observe that as the year increases CPI increase and Unemployment Decreases but there\n",
    "# is no gradual increase or decrease .Hence Using values from april,2013 to fill null values \n",
    "# As values are missing for three months i.e May,June,July,2013"
   ]
  },
  {
   "cell_type": "code",
   "execution_count": 16,
   "metadata": {
    "colab": {},
    "colab_type": "code",
    "id": "qDw2nZ8ydatg"
   },
   "outputs": [],
   "source": [
    "data.CPI.fillna(data.Store.map(data.groupby('Store')['CPI'].max()),inplace=True)"
   ]
  },
  {
   "cell_type": "code",
   "execution_count": 17,
   "metadata": {
    "colab": {},
    "colab_type": "code",
    "id": "8OZsXG-hdatq"
   },
   "outputs": [],
   "source": [
    "data.Unemployment.fillna(data.Store.map(data.groupby('Store').Unemployment.min()),inplace=True)"
   ]
  },
  {
   "cell_type": "code",
   "execution_count": 0,
   "metadata": {
    "colab": {},
    "colab_type": "code",
    "id": "g9Uue54Bdaty",
    "outputId": "b56a4ed7-fc88-4f92-fb03-7399334a539b"
   },
   "outputs": [
    {
     "data": {
      "text/html": [
       "<div>\n",
       "<style scoped>\n",
       "    .dataframe tbody tr th:only-of-type {\n",
       "        vertical-align: middle;\n",
       "    }\n",
       "\n",
       "    .dataframe tbody tr th {\n",
       "        vertical-align: top;\n",
       "    }\n",
       "\n",
       "    .dataframe thead th {\n",
       "        text-align: right;\n",
       "    }\n",
       "</style>\n",
       "<table border=\"1\" class=\"dataframe\">\n",
       "  <thead>\n",
       "    <tr style=\"text-align: right;\">\n",
       "      <th></th>\n",
       "      <th>Store</th>\n",
       "      <th>Dept</th>\n",
       "      <th>Date</th>\n",
       "      <th>Weekly_Sales</th>\n",
       "      <th>IsHoliday</th>\n",
       "      <th>data</th>\n",
       "      <th>Temperature</th>\n",
       "      <th>Fuel_Price</th>\n",
       "      <th>MarkDown1</th>\n",
       "      <th>MarkDown2</th>\n",
       "      <th>...</th>\n",
       "      <th>MarkDown4</th>\n",
       "      <th>MarkDown5</th>\n",
       "      <th>CPI</th>\n",
       "      <th>Unemployment</th>\n",
       "      <th>Type</th>\n",
       "      <th>Size</th>\n",
       "      <th>Year</th>\n",
       "      <th>Month</th>\n",
       "      <th>Week</th>\n",
       "      <th>Day</th>\n",
       "    </tr>\n",
       "  </thead>\n",
       "  <tbody>\n",
       "    <tr>\n",
       "      <th>0</th>\n",
       "      <td>1</td>\n",
       "      <td>1</td>\n",
       "      <td>2010-02-05</td>\n",
       "      <td>24924.50</td>\n",
       "      <td>False</td>\n",
       "      <td>train</td>\n",
       "      <td>42.31</td>\n",
       "      <td>2.572</td>\n",
       "      <td>0.0</td>\n",
       "      <td>0.0</td>\n",
       "      <td>...</td>\n",
       "      <td>0.0</td>\n",
       "      <td>0.0</td>\n",
       "      <td>211.096358</td>\n",
       "      <td>8.106</td>\n",
       "      <td>A</td>\n",
       "      <td>151315</td>\n",
       "      <td>2010</td>\n",
       "      <td>2</td>\n",
       "      <td>5</td>\n",
       "      <td>5</td>\n",
       "    </tr>\n",
       "    <tr>\n",
       "      <th>1</th>\n",
       "      <td>1</td>\n",
       "      <td>1</td>\n",
       "      <td>2010-02-12</td>\n",
       "      <td>46039.49</td>\n",
       "      <td>True</td>\n",
       "      <td>train</td>\n",
       "      <td>38.51</td>\n",
       "      <td>2.548</td>\n",
       "      <td>0.0</td>\n",
       "      <td>0.0</td>\n",
       "      <td>...</td>\n",
       "      <td>0.0</td>\n",
       "      <td>0.0</td>\n",
       "      <td>211.242170</td>\n",
       "      <td>8.106</td>\n",
       "      <td>A</td>\n",
       "      <td>151315</td>\n",
       "      <td>2010</td>\n",
       "      <td>2</td>\n",
       "      <td>6</td>\n",
       "      <td>12</td>\n",
       "    </tr>\n",
       "    <tr>\n",
       "      <th>2</th>\n",
       "      <td>1</td>\n",
       "      <td>1</td>\n",
       "      <td>2010-02-19</td>\n",
       "      <td>41595.55</td>\n",
       "      <td>False</td>\n",
       "      <td>train</td>\n",
       "      <td>39.93</td>\n",
       "      <td>2.514</td>\n",
       "      <td>0.0</td>\n",
       "      <td>0.0</td>\n",
       "      <td>...</td>\n",
       "      <td>0.0</td>\n",
       "      <td>0.0</td>\n",
       "      <td>211.289143</td>\n",
       "      <td>8.106</td>\n",
       "      <td>A</td>\n",
       "      <td>151315</td>\n",
       "      <td>2010</td>\n",
       "      <td>2</td>\n",
       "      <td>7</td>\n",
       "      <td>19</td>\n",
       "    </tr>\n",
       "    <tr>\n",
       "      <th>3</th>\n",
       "      <td>1</td>\n",
       "      <td>1</td>\n",
       "      <td>2010-02-26</td>\n",
       "      <td>19403.54</td>\n",
       "      <td>False</td>\n",
       "      <td>train</td>\n",
       "      <td>46.63</td>\n",
       "      <td>2.561</td>\n",
       "      <td>0.0</td>\n",
       "      <td>0.0</td>\n",
       "      <td>...</td>\n",
       "      <td>0.0</td>\n",
       "      <td>0.0</td>\n",
       "      <td>211.319643</td>\n",
       "      <td>8.106</td>\n",
       "      <td>A</td>\n",
       "      <td>151315</td>\n",
       "      <td>2010</td>\n",
       "      <td>2</td>\n",
       "      <td>8</td>\n",
       "      <td>26</td>\n",
       "    </tr>\n",
       "    <tr>\n",
       "      <th>4</th>\n",
       "      <td>1</td>\n",
       "      <td>1</td>\n",
       "      <td>2010-03-05</td>\n",
       "      <td>21827.90</td>\n",
       "      <td>False</td>\n",
       "      <td>train</td>\n",
       "      <td>46.50</td>\n",
       "      <td>2.625</td>\n",
       "      <td>0.0</td>\n",
       "      <td>0.0</td>\n",
       "      <td>...</td>\n",
       "      <td>0.0</td>\n",
       "      <td>0.0</td>\n",
       "      <td>211.350143</td>\n",
       "      <td>8.106</td>\n",
       "      <td>A</td>\n",
       "      <td>151315</td>\n",
       "      <td>2010</td>\n",
       "      <td>3</td>\n",
       "      <td>9</td>\n",
       "      <td>5</td>\n",
       "    </tr>\n",
       "  </tbody>\n",
       "</table>\n",
       "<p>5 rows × 21 columns</p>\n",
       "</div>"
      ],
      "text/plain": [
       "   Store  Dept       Date  Weekly_Sales  IsHoliday   data  Temperature  \\\n",
       "0      1     1 2010-02-05      24924.50      False  train        42.31   \n",
       "1      1     1 2010-02-12      46039.49       True  train        38.51   \n",
       "2      1     1 2010-02-19      41595.55      False  train        39.93   \n",
       "3      1     1 2010-02-26      19403.54      False  train        46.63   \n",
       "4      1     1 2010-03-05      21827.90      False  train        46.50   \n",
       "\n",
       "   Fuel_Price  MarkDown1  MarkDown2  ...  MarkDown4  MarkDown5         CPI  \\\n",
       "0       2.572        0.0        0.0  ...        0.0        0.0  211.096358   \n",
       "1       2.548        0.0        0.0  ...        0.0        0.0  211.242170   \n",
       "2       2.514        0.0        0.0  ...        0.0        0.0  211.289143   \n",
       "3       2.561        0.0        0.0  ...        0.0        0.0  211.319643   \n",
       "4       2.625        0.0        0.0  ...        0.0        0.0  211.350143   \n",
       "\n",
       "   Unemployment  Type    Size  Year  Month  Week  Day  \n",
       "0         8.106     A  151315  2010      2     5    5  \n",
       "1         8.106     A  151315  2010      2     6   12  \n",
       "2         8.106     A  151315  2010      2     7   19  \n",
       "3         8.106     A  151315  2010      2     8   26  \n",
       "4         8.106     A  151315  2010      3     9    5  \n",
       "\n",
       "[5 rows x 21 columns]"
      ]
     },
     "execution_count": 60,
     "metadata": {
      "tags": []
     },
     "output_type": "execute_result"
    }
   ],
   "source": [
    "data.head()"
   ]
  },
  {
   "cell_type": "code",
   "execution_count": 14,
   "metadata": {
    "colab": {
     "base_uri": "https://localhost:8080/",
     "height": 417
    },
    "colab_type": "code",
    "id": "u8MUWUJvdat8",
    "outputId": "c3781e98-256c-4e4d-d725-0f2b93614322"
   },
   "outputs": [
    {
     "data": {
      "text/plain": [
       "Store                0\n",
       "Dept                 0\n",
       "Date                 0\n",
       "Weekly_Sales    115064\n",
       "IsHoliday            0\n",
       "data                 0\n",
       "Temperature          0\n",
       "Fuel_Price           0\n",
       "MarkDown1            0\n",
       "MarkDown2            0\n",
       "MarkDown3            0\n",
       "MarkDown4            0\n",
       "MarkDown5            0\n",
       "CPI                  0\n",
       "Unemployment         0\n",
       "Type                 0\n",
       "Size                 0\n",
       "Year                 0\n",
       "Month                0\n",
       "Week                 0\n",
       "Day                  0\n",
       "dtype: int64"
      ]
     },
     "execution_count": 14,
     "metadata": {
      "tags": []
     },
     "output_type": "execute_result"
    }
   ],
   "source": [
    "data.isnull().sum()"
   ]
  },
  {
   "cell_type": "markdown",
   "metadata": {},
   "source": [
    "### Split Train & Test Data"
   ]
  },
  {
   "cell_type": "code",
   "execution_count": 18,
   "metadata": {
    "colab": {},
    "colab_type": "code",
    "id": "JtYGet9qdauD"
   },
   "outputs": [],
   "source": [
    "train=data.loc[data.data=='train']\n",
    "test=data.loc[data.data=='test']"
   ]
  },
  {
   "cell_type": "code",
   "execution_count": 19,
   "metadata": {
    "colab": {},
    "colab_type": "code",
    "id": "9duXjGtddauN"
   },
   "outputs": [],
   "source": [
    "train.drop(['data'],axis=1,inplace=True)\n",
    "test.drop(['data','Weekly_Sales'],axis=1,inplace=True)"
   ]
  },
  {
   "cell_type": "code",
   "execution_count": 20,
   "metadata": {
    "colab": {},
    "colab_type": "code",
    "id": "GmDxjcFGdauV"
   },
   "outputs": [],
   "source": [
    "data=None"
   ]
  },
  {
   "cell_type": "markdown",
   "metadata": {},
   "source": [
    "## Data Exploration"
   ]
  },
  {
   "cell_type": "code",
   "execution_count": 0,
   "metadata": {
    "colab": {},
    "colab_type": "code",
    "id": "tuPcJ5aMdaul",
    "outputId": "de19e9e5-e1bb-4294-b418-867faf8824e0"
   },
   "outputs": [
    {
     "data": {
      "text/plain": [
       "count    421570.000000\n",
       "mean      15981.258123\n",
       "std       22711.183519\n",
       "min       -4988.940000\n",
       "25%        2079.650000\n",
       "50%        7612.030000\n",
       "75%       20205.852500\n",
       "max      693099.360000\n",
       "Name: Weekly_Sales, dtype: float64"
      ]
     },
     "execution_count": 83,
     "metadata": {
      "tags": []
     },
     "output_type": "execute_result"
    }
   ],
   "source": [
    "train.Weekly_Sales.describe()\n",
    "# Using describe() to get descriptive statistics about the Target Variable"
   ]
  },
  {
   "cell_type": "code",
   "execution_count": 21,
   "metadata": {
    "colab": {},
    "colab_type": "code",
    "id": "cm9sb4Gidauu"
   },
   "outputs": [],
   "source": [
    "# Replacing Negative Values in Target Variable with 0\n",
    "train.Weekly_Sales=train.Weekly_Sales.apply(lambda x:0 if x<0 else x)"
   ]
  },
  {
   "cell_type": "code",
   "execution_count": 0,
   "metadata": {
    "colab": {},
    "colab_type": "code",
    "id": "-bWvjwzDdau6",
    "outputId": "e47d2cb4-722b-4416-84b2-873115e92166"
   },
   "outputs": [
    {
     "data": {
      "text/plain": [
       "count    421570.000000\n",
       "mean      15981.467250\n",
       "std       22711.032446\n",
       "min           0.000000\n",
       "25%        2079.650000\n",
       "50%        7612.030000\n",
       "75%       20205.852500\n",
       "max      693099.360000\n",
       "Name: Weekly_Sales, dtype: float64"
      ]
     },
     "execution_count": 88,
     "metadata": {
      "tags": []
     },
     "output_type": "execute_result"
    }
   ],
   "source": [
    "train.Weekly_Sales.describe()"
   ]
  },
  {
   "cell_type": "markdown",
   "metadata": {},
   "source": [
    "### Univariate Analysis"
   ]
  },
  {
   "cell_type": "code",
   "execution_count": 0,
   "metadata": {
    "colab": {},
    "colab_type": "code",
    "id": "2wiMwDoMdavD",
    "outputId": "d7ff3ad0-9af5-4240-b96f-4975d6690533"
   },
   "outputs": [
    {
     "data": {
      "text/plain": [
       "<matplotlib.axes._subplots.AxesSubplot at 0xa903a90>"
      ]
     },
     "execution_count": 99,
     "metadata": {
      "tags": []
     },
     "output_type": "execute_result"
    },
    {
     "data": {
      "image/png": "[encoded data removed]",
      "text/plain": [
       "<Figure size 432x288 with 1 Axes>"
      ]
     },
     "metadata": {
      "needs_background": "light",
      "tags": []
     },
     "output_type": "display_data"
    }
   ],
   "source": [
    "# Distribution of Target variable to know the symmetry of data\n",
    "sns.distplot(train.Weekly_Sales)"
   ]
  },
  {
   "cell_type": "code",
   "execution_count": 0,
   "metadata": {
    "colab": {},
    "colab_type": "code",
    "id": "O4DqXg2wdavJ",
    "outputId": "ffe03dfa-0a91-46ad-e7f9-b5ef1006805e"
   },
   "outputs": [
    {
     "name": "stdout",
     "output_type": "stream",
     "text": [
      "Skewness is:  3.26206010752399\n",
      "Kurtosis is:  21.49180743765208\n"
     ]
    }
   ],
   "source": [
    "print('Skewness is: ',train.Weekly_Sales.skew())\n",
    "print('Kurtosis is: ',train.Weekly_Sales.kurt())"
   ]
  },
  {
   "cell_type": "code",
   "execution_count": 1,
   "metadata": {},
   "outputs": [],
   "source": [
    "# 1. Target Variable is right Skewed.\n",
    "# 2. Mean>Median\n",
    "# 3. Skewness is greater than 0\n",
    "# 4. Lepto Kurtic Curve - Hence highly densed towards left."
   ]
  },
  {
   "cell_type": "code",
   "execution_count": 0,
   "metadata": {
    "colab": {},
    "colab_type": "code",
    "id": "oRZbR9bsdavZ",
    "outputId": "fa63f3fe-e408-42fa-a351-640a7effca49"
   },
   "outputs": [
    {
     "data": {
      "text/plain": [
       "Type\n",
       "A    177247.727273\n",
       "B    101190.705882\n",
       "C     40541.666667\n",
       "Name: Size, dtype: float64"
      ]
     },
     "execution_count": 102,
     "metadata": {
      "tags": []
     },
     "output_type": "execute_result"
    }
   ],
   "source": [
    "# Analysis of Store Data\n",
    "stores.groupby('Type').Size.mean()"
   ]
  },
  {
   "cell_type": "code",
   "execution_count": 2,
   "metadata": {},
   "outputs": [],
   "source": [
    "#We can say that \n",
    "# 1. Type A represents Big Stores\n",
    "# 2. Type B represents Medium Stores\n",
    "# 3. Type C represents Small Stores"
   ]
  },
  {
   "cell_type": "code",
   "execution_count": 0,
   "metadata": {
    "colab": {},
    "colab_type": "code",
    "id": "RNbJHkLcdavg",
    "outputId": "868e6f0c-4450-4e8f-dc5f-8eab5e22fe64"
   },
   "outputs": [
    {
     "data": {
      "text/plain": [
       "<matplotlib.axes._subplots.AxesSubplot at 0x259896a0>"
      ]
     },
     "execution_count": 103,
     "metadata": {
      "tags": []
     },
     "output_type": "execute_result"
    },
    {
     "data": {
      "image/png": "[encoded data removed]",
      "text/plain": [
       "<Figure size 432x288 with 1 Axes>"
      ]
     },
     "metadata": {
      "needs_background": "light",
      "tags": []
     },
     "output_type": "display_data"
    }
   ],
   "source": [
    "sns.countplot(stores.Type)# Count plot get the count of classes in Type Columns"
   ]
  },
  {
   "cell_type": "code",
   "execution_count": 3,
   "metadata": {},
   "outputs": [],
   "source": [
    "# 1. Majority of stores are Type A "
   ]
  },
  {
   "cell_type": "code",
   "execution_count": 0,
   "metadata": {
    "colab": {},
    "colab_type": "code",
    "id": "UVDQxVXbdavm",
    "outputId": "5594ae45-2f1e-410b-ee99-54e50728ae12"
   },
   "outputs": [
    {
     "data": {
      "text/plain": [
       "<matplotlib.collections.PathCollection at 0x2589f6a0>"
      ]
     },
     "execution_count": 104,
     "metadata": {
      "tags": []
     },
     "output_type": "execute_result"
    },
    {
     "data": {
      "image/png": "[encoded data removed]",
      "text/plain": [
       "<Figure size 432x288 with 1 Axes>"
      ]
     },
     "metadata": {
      "needs_background": "light",
      "tags": []
     },
     "output_type": "display_data"
    }
   ],
   "source": [
    "plt.scatter(stores.Type,stores.Size)"
   ]
  },
  {
   "cell_type": "code",
   "execution_count": null,
   "metadata": {},
   "outputs": [],
   "source": [
    "# 1. There are few stores in Type A & B with size less than 40000"
   ]
  },
  {
   "cell_type": "code",
   "execution_count": 0,
   "metadata": {
    "colab": {},
    "colab_type": "code",
    "id": "hCzE12gjdav0",
    "outputId": "cb328358-8829-4a33-bd21-76ea5ad8db35"
   },
   "outputs": [
    {
     "data": {
      "text/html": [
       "<div>\n",
       "<style scoped>\n",
       "    .dataframe tbody tr th:only-of-type {\n",
       "        vertical-align: middle;\n",
       "    }\n",
       "\n",
       "    .dataframe tbody tr th {\n",
       "        vertical-align: top;\n",
       "    }\n",
       "\n",
       "    .dataframe thead th {\n",
       "        text-align: right;\n",
       "    }\n",
       "</style>\n",
       "<table border=\"1\" class=\"dataframe\">\n",
       "  <thead>\n",
       "    <tr style=\"text-align: right;\">\n",
       "      <th></th>\n",
       "      <th>Store</th>\n",
       "      <th>Type</th>\n",
       "      <th>Size</th>\n",
       "    </tr>\n",
       "  </thead>\n",
       "  <tbody>\n",
       "    <tr>\n",
       "      <th>2</th>\n",
       "      <td>3</td>\n",
       "      <td>B</td>\n",
       "      <td>37392</td>\n",
       "    </tr>\n",
       "    <tr>\n",
       "      <th>4</th>\n",
       "      <td>5</td>\n",
       "      <td>B</td>\n",
       "      <td>34875</td>\n",
       "    </tr>\n",
       "    <tr>\n",
       "      <th>32</th>\n",
       "      <td>33</td>\n",
       "      <td>A</td>\n",
       "      <td>39690</td>\n",
       "    </tr>\n",
       "    <tr>\n",
       "      <th>35</th>\n",
       "      <td>36</td>\n",
       "      <td>A</td>\n",
       "      <td>39910</td>\n",
       "    </tr>\n",
       "  </tbody>\n",
       "</table>\n",
       "</div>"
      ],
      "text/plain": [
       "    Store Type   Size\n",
       "2       3    B  37392\n",
       "4       5    B  34875\n",
       "32     33    A  39690\n",
       "35     36    A  39910"
      ]
     },
     "execution_count": 108,
     "metadata": {
      "tags": []
     },
     "output_type": "execute_result"
    }
   ],
   "source": [
    "stores[(stores.Size<40000)&(stores.Type!='C')]"
   ]
  },
  {
   "cell_type": "code",
   "execution_count": 0,
   "metadata": {
    "colab": {},
    "colab_type": "code",
    "id": "6aRxAFMQdawC",
    "outputId": "f103eb7a-4eea-4857-def4-ad2c393215fb"
   },
   "outputs": [
    {
     "data": {
      "text/html": [
       "<div>\n",
       "<style scoped>\n",
       "    .dataframe tbody tr th:only-of-type {\n",
       "        vertical-align: middle;\n",
       "    }\n",
       "\n",
       "    .dataframe tbody tr th {\n",
       "        vertical-align: top;\n",
       "    }\n",
       "\n",
       "    .dataframe thead th {\n",
       "        text-align: right;\n",
       "    }\n",
       "</style>\n",
       "<table border=\"1\" class=\"dataframe\">\n",
       "  <thead>\n",
       "    <tr style=\"text-align: right;\">\n",
       "      <th></th>\n",
       "      <th>Type</th>\n",
       "      <th>Weekly_Sales</th>\n",
       "    </tr>\n",
       "  </thead>\n",
       "  <tbody>\n",
       "    <tr>\n",
       "      <th>0</th>\n",
       "      <td>A</td>\n",
       "      <td>20099.766466</td>\n",
       "    </tr>\n",
       "    <tr>\n",
       "      <th>1</th>\n",
       "      <td>B</td>\n",
       "      <td>12237.326208</td>\n",
       "    </tr>\n",
       "    <tr>\n",
       "      <th>2</th>\n",
       "      <td>C</td>\n",
       "      <td>9519.638045</td>\n",
       "    </tr>\n",
       "  </tbody>\n",
       "</table>\n",
       "</div>"
      ],
      "text/plain": [
       "  Type  Weekly_Sales\n",
       "0    A  20099.766466\n",
       "1    B  12237.326208\n",
       "2    C   9519.638045"
      ]
     },
     "execution_count": 119,
     "metadata": {
      "tags": []
     },
     "output_type": "execute_result"
    }
   ],
   "source": [
    "train.groupby('Type').Weekly_Sales.mean().reset_index()\n",
    "# Average Weekly Sales of Different Types of Stores."
   ]
  },
  {
   "cell_type": "code",
   "execution_count": 0,
   "metadata": {
    "colab": {},
    "colab_type": "code",
    "id": "WKIedQiUdawJ",
    "outputId": "6f1f4ba7-aea1-4f03-a8cd-58e540242a2f"
   },
   "outputs": [
    {
     "data": {
      "text/html": [
       "<div>\n",
       "<style scoped>\n",
       "    .dataframe tbody tr th:only-of-type {\n",
       "        vertical-align: middle;\n",
       "    }\n",
       "\n",
       "    .dataframe tbody tr th {\n",
       "        vertical-align: top;\n",
       "    }\n",
       "\n",
       "    .dataframe thead th {\n",
       "        text-align: right;\n",
       "    }\n",
       "</style>\n",
       "<table border=\"1\" class=\"dataframe\">\n",
       "  <thead>\n",
       "    <tr style=\"text-align: right;\">\n",
       "      <th></th>\n",
       "      <th>Store</th>\n",
       "      <th>Weekly_Sales</th>\n",
       "    </tr>\n",
       "  </thead>\n",
       "  <tbody>\n",
       "    <tr>\n",
       "      <th>0</th>\n",
       "      <td>3</td>\n",
       "      <td>6373.165767</td>\n",
       "    </tr>\n",
       "    <tr>\n",
       "      <th>1</th>\n",
       "      <td>5</td>\n",
       "      <td>5053.463686</td>\n",
       "    </tr>\n",
       "    <tr>\n",
       "      <th>2</th>\n",
       "      <td>33</td>\n",
       "      <td>5728.429998</td>\n",
       "    </tr>\n",
       "    <tr>\n",
       "      <th>3</th>\n",
       "      <td>36</td>\n",
       "      <td>8584.595484</td>\n",
       "    </tr>\n",
       "  </tbody>\n",
       "</table>\n",
       "</div>"
      ],
      "text/plain": [
       "   Store  Weekly_Sales\n",
       "0      3   6373.165767\n",
       "1      5   5053.463686\n",
       "2     33   5728.429998\n",
       "3     36   8584.595484"
      ]
     },
     "execution_count": 120,
     "metadata": {
      "tags": []
     },
     "output_type": "execute_result"
    }
   ],
   "source": [
    "temp=train[train.Store.isin([3,5,33,36])]\n",
    "temp.groupby('Store').Weekly_Sales.mean().reset_index()"
   ]
  },
  {
   "cell_type": "code",
   "execution_count": 0,
   "metadata": {
    "colab": {},
    "colab_type": "code",
    "id": "dkIgWTAwdav7"
   },
   "outputs": [],
   "source": [
    "# 1. Average Weekly Sales of Store Number 3,5,33,36 are in range of Average Weekly Sales of Type C\n",
    "# 2. We can say that Store number 3,5,33,36 belong to type C.\n",
    "# 3. So replace their type to C."
   ]
  },
  {
   "cell_type": "code",
   "execution_count": 22,
   "metadata": {
    "colab": {},
    "colab_type": "code",
    "id": "nYWELWeSdawV"
   },
   "outputs": [],
   "source": [
    "train['Type'].loc[train.Store.isin([3,5,33,36])]='C'\n",
    "test['Type'].loc[test.Store.isin([3,5,33,36])]='C'"
   ]
  },
  {
   "cell_type": "code",
   "execution_count": 0,
   "metadata": {
    "colab": {},
    "colab_type": "code",
    "id": "JTUya478dawd",
    "outputId": "5eec1019-dd3c-42c2-fa03-6a498214d1bd",
    "scrolled": true
   },
   "outputs": [
    {
     "data": {
      "text/plain": [
       "<matplotlib.axes._subplots.AxesSubplot at 0xa97cd68>"
      ]
     },
     "execution_count": 141,
     "metadata": {
      "tags": []
     },
     "output_type": "execute_result"
    },
    {
     "data": {
      "image/png": "[encoded data removed]",
      "text/plain": [
       "<Figure size 432x288 with 1 Axes>"
      ]
     },
     "metadata": {
      "needs_background": "light",
      "tags": []
     },
     "output_type": "display_data"
    }
   ],
   "source": [
    "# Bar Plot to get idea of average Weekly Sales of Type of Stores.\n",
    "train.groupby('Type').Weekly_Sales.mean().plot(kind=\"bar\")"
   ]
  },
  {
   "cell_type": "markdown",
   "metadata": {},
   "source": [
    "### Distribution of continuous Independent Variables"
   ]
  },
  {
   "cell_type": "code",
   "execution_count": 23,
   "metadata": {
    "colab": {},
    "colab_type": "code",
    "id": "LEZpZtdcdawl",
    "outputId": "b7e7d795-247a-4f54-bea1-90240141fbed"
   },
   "outputs": [
    {
     "data": {
      "image/png": "[encoded data removed]",
      "text/plain": [
       "<Figure size 864x576 with 2 Axes>"
      ]
     },
     "metadata": {
      "needs_background": "light"
     },
     "output_type": "display_data"
    }
   ],
   "source": [
    "plt.figure(figsize=(12,8))\n",
    "plt.subplot(221)\n",
    "sns.distplot(train.Temperature)\n",
    "plt.subplot(222)\n",
    "sns.distplot(train.Fuel_Price)\n",
    "plt.show()"
   ]
  },
  {
   "cell_type": "code",
   "execution_count": 4,
   "metadata": {},
   "outputs": [],
   "source": [
    "# 1. Temperature is slightly left skewed.\n",
    "# 2. Mostly Temperature of Stores are between 50 to 100 ,So Stores are from \n",
    "#    Continental Climate Region.\n",
    "# 3. Fuel Price is Bi Model in Nature."
   ]
  },
  {
   "cell_type": "code",
   "execution_count": 0,
   "metadata": {
    "colab": {},
    "colab_type": "code",
    "id": "Ed2FA5B3daws",
    "outputId": "3ba835da-c63e-4cd5-b310-820995cacc27"
   },
   "outputs": [
    {
     "data": {
      "image/png": "[encoded data removed]",
      "text/plain": [
       "<Figure size 864x576 with 3 Axes>"
      ]
     },
     "metadata": {
      "needs_background": "light",
      "tags": []
     },
     "output_type": "display_data"
    }
   ],
   "source": [
    "plt.figure(figsize=(12,8))\n",
    "plt.subplot(221)\n",
    "sns.distplot(train.MarkDown1)\n",
    "plt.subplot(222)\n",
    "sns.distplot(train.MarkDown2)\n",
    "plt.subplot(223)\n",
    "sns.distplot(train.MarkDown3)\n",
    "plt.show()"
   ]
  },
  {
   "cell_type": "code",
   "execution_count": 104,
   "metadata": {
    "colab": {
     "base_uri": "https://localhost:8080/",
     "height": 517
    },
    "colab_type": "code",
    "id": "q5uhnbiSdaw0",
    "outputId": "6affd917-01b4-4105-af70-644a8901e3a3"
   },
   "outputs": [
    {
     "data": {
      "image/png": "[encoded data removed]",
      "text/plain": [
       "<Figure size 864x576 with 3 Axes>"
      ]
     },
     "metadata": {
      "tags": []
     },
     "output_type": "display_data"
    }
   ],
   "source": [
    "plt.figure(figsize=(12,8))\n",
    "plt.subplot(221)\n",
    "sns.distplot(train.MarkDown4)\n",
    "plt.subplot(222)\n",
    "sns.distplot(train.MarkDown5)\n",
    "plt.subplot(223)\n",
    "sns.distplot(train.Size)\n",
    "plt.show()\n",
    "plt.show()"
   ]
  },
  {
   "cell_type": "code",
   "execution_count": null,
   "metadata": {},
   "outputs": [],
   "source": [
    "# 1. Distribution of Markdown is highly right skewed in nature.\n",
    "# 2. Most of the Weeks ,Stores doesn't run Promotions,hence markdown are 0.\n",
    "# 3. Size of Stores are Multi Model in nature."
   ]
  },
  {
   "cell_type": "code",
   "execution_count": 0,
   "metadata": {
    "colab": {},
    "colab_type": "code",
    "id": "yPmIf1andaxI",
    "outputId": "3438516e-9c18-4d0e-8163-87a0b6a014b5"
   },
   "outputs": [
    {
     "data": {
      "text/plain": [
       "<matplotlib.axes._subplots.AxesSubplot at 0x20bb6048>"
      ]
     },
     "execution_count": 207,
     "metadata": {
      "tags": []
     },
     "output_type": "execute_result"
    },
    {
     "data": {
      "image/png": "[encoded data removed]",
      "text/plain": [
       "<Figure size 432x288 with 1 Axes>"
      ]
     },
     "metadata": {
      "needs_background": "light",
      "tags": []
     },
     "output_type": "display_data"
    }
   ],
   "source": [
    "sns.countplot(train.IsHoliday)"
   ]
  },
  {
   "cell_type": "code",
   "execution_count": 5,
   "metadata": {},
   "outputs": [],
   "source": [
    "# There are very few Holidays"
   ]
  },
  {
   "cell_type": "markdown",
   "metadata": {
    "colab": {},
    "colab_type": "code",
    "id": "yfV-7feqdaxQ"
   },
   "source": [
    "### Bivariate Analysis\n",
    "##### Analysis of Target Variables And Independent Variables."
   ]
  },
  {
   "cell_type": "code",
   "execution_count": 0,
   "metadata": {
    "colab": {},
    "colab_type": "code",
    "id": "KkzXmezvdaxb",
    "outputId": "519dce91-d954-4339-d33a-d7068c92ee62"
   },
   "outputs": [
    {
     "data": {
      "text/plain": [
       "<matplotlib.axes._subplots.AxesSubplot at 0x50d4af60>"
      ]
     },
     "execution_count": 225,
     "metadata": {
      "tags": []
     },
     "output_type": "execute_result"
    },
    {
     "data": {
      "image/png": "[encoded data removed]",
      "text/plain": [
       "<Figure size 864x288 with 1 Axes>"
      ]
     },
     "metadata": {
      "needs_background": "light",
      "tags": []
     },
     "output_type": "display_data"
    }
   ],
   "source": [
    "# Store Number\n",
    "plt.figure(figsize=(12,4))\n",
    "sns.barplot(y='Weekly_Sales',x='Store',data=train,hue='Type')"
   ]
  },
  {
   "cell_type": "code",
   "execution_count": 6,
   "metadata": {},
   "outputs": [],
   "source": [
    "# 1. Type A Stores have high Average Weekly Sale.\n",
    "# 2. Store 10,14 and 20 have highest average sale."
   ]
  },
  {
   "cell_type": "code",
   "execution_count": 0,
   "metadata": {
    "colab": {},
    "colab_type": "code",
    "id": "24ntRY-Ndaxi",
    "outputId": "03903464-ca25-4fb6-88fa-1e723622f616"
   },
   "outputs": [
    {
     "data": {
      "text/plain": [
       "<matplotlib.axes._subplots.AxesSubplot at 0x1b50dd30>"
      ]
     },
     "execution_count": 20,
     "metadata": {
      "tags": []
     },
     "output_type": "execute_result"
    },
    {
     "data": {
      "image/png": "[encoded data removed]",
      "text/plain": [
       "<Figure size 1008x288 with 1 Axes>"
      ]
     },
     "metadata": {
      "needs_background": "light",
      "tags": []
     },
     "output_type": "display_data"
    }
   ],
   "source": [
    "# Department Number\n",
    "plt.figure(figsize=(14,4))\n",
    "train.groupby('Dept').Weekly_Sales.mean().plot(kind='bar')"
   ]
  },
  {
   "cell_type": "code",
   "execution_count": 7,
   "metadata": {},
   "outputs": [],
   "source": [
    "# 1. Department No. 38,92 and 95 have highest average sales.\n",
    "# 2. These deparments can have items which are bought frequently."
   ]
  },
  {
   "cell_type": "code",
   "execution_count": 0,
   "metadata": {
    "colab": {},
    "colab_type": "code",
    "id": "nfVfVaCadaxn",
    "outputId": "b8362492-ba57-4857-eef4-95da53fd5525"
   },
   "outputs": [
    {
     "data": {
      "text/plain": [
       "<matplotlib.axes._subplots.AxesSubplot at 0x1a3238d0>"
      ]
     },
     "execution_count": 21,
     "metadata": {
      "tags": []
     },
     "output_type": "execute_result"
    },
    {
     "data": {
      "image/png": "[encoded data removed]",
      "text/plain": [
       "<Figure size 576x288 with 1 Axes>"
      ]
     },
     "metadata": {
      "needs_background": "light",
      "tags": []
     },
     "output_type": "display_data"
    }
   ],
   "source": [
    "# IS Holiday\n",
    "plt.figure(figsize=(8,4))\n",
    "sns.barplot(y='Weekly_Sales',x='IsHoliday',data=train)"
   ]
  },
  {
   "cell_type": "code",
   "execution_count": 8,
   "metadata": {},
   "outputs": [],
   "source": [
    "# 1. Average Sales during Holiday Week is higher than Normal day Week."
   ]
  },
  {
   "cell_type": "code",
   "execution_count": 41,
   "metadata": {
    "colab": {},
    "colab_type": "code",
    "id": "W95YDcKBdaxu",
    "outputId": "2fee03e8-18bc-45f0-8ed6-bf4fdc5aa5dd"
   },
   "outputs": [
    {
     "data": {
      "image/png": "[encoded data removed]",
      "text/plain": [
       "<Figure size 432x288 with 1 Axes>"
      ]
     },
     "metadata": {
      "needs_background": "light"
     },
     "output_type": "display_data"
    }
   ],
   "source": [
    "# Temperature VS Weekly Sales\n",
    "plt.scatter(train.Temperature,train.Weekly_Sales,c=train.IsHoliday)\n",
    "plt.xlabel('Temperature')\n",
    "plt.ylabel('Weekly Sales')\n",
    "plt.show()"
   ]
  },
  {
   "cell_type": "code",
   "execution_count": null,
   "metadata": {},
   "outputs": [],
   "source": [
    "# 1. Weekly Sales increases if Temperature Between 30-70 .\n",
    "# 2. Yellow dots are holiday weeks."
   ]
  },
  {
   "cell_type": "code",
   "execution_count": 0,
   "metadata": {
    "colab": {},
    "colab_type": "code",
    "id": "9ukAUQWYdax2",
    "outputId": "f9674ef8-3de0-40a5-a794-aff4dba5bc29"
   },
   "outputs": [
    {
     "data": {
      "text/plain": [
       "<matplotlib.collections.PathCollection at 0x2150c780>"
      ]
     },
     "execution_count": 23,
     "metadata": {
      "tags": []
     },
     "output_type": "execute_result"
    },
    {
     "data": {
      "image/png": "[encoded data removed]",
      "text/plain": [
       "<Figure size 432x288 with 1 Axes>"
      ]
     },
     "metadata": {
      "needs_background": "light",
      "tags": []
     },
     "output_type": "display_data"
    }
   ],
   "source": [
    "# Fuel_Price VS Weekly_Sales\n",
    "plt.scatter(train.Fuel_Price,train.Weekly_Sales)\n",
    "plt.xlabel('Fuel Price')\n",
    "plt.ylabel('Weekly Sales')\n",
    "plt.show()"
   ]
  },
  {
   "cell_type": "code",
   "execution_count": null,
   "metadata": {},
   "outputs": [],
   "source": [
    "# 1. There is no much effect of fuel price on weekly sales."
   ]
  },
  {
   "cell_type": "code",
   "execution_count": 0,
   "metadata": {
    "colab": {},
    "colab_type": "code",
    "id": "yGsKpieGdax8",
    "outputId": "47151133-a125-4829-ab31-d60f57c94a42"
   },
   "outputs": [
    {
     "data": {
      "image/png": "[encoded data removed]",
      "text/plain": [
       "<Figure size 1764x504 with 5 Axes>"
      ]
     },
     "metadata": {
      "needs_background": "light",
      "tags": []
     },
     "output_type": "display_data"
    }
   ],
   "source": [
    "# Pair Plot for MarkDown VS Weekly_Sales\n",
    "sns.pairplot(train,x_vars=['MarkDown1','MarkDown2','MarkDown3','MarkDown4','MarkDown5'],\n",
    "            y_vars='Weekly_Sales',height=7,aspect=0.7,kind='scatter')\n",
    "plt.show()"
   ]
  },
  {
   "cell_type": "code",
   "execution_count": null,
   "metadata": {},
   "outputs": [],
   "source": [
    "# 1. In MarkDown 1,2,4,5 we can see that Weekly Sales are more when MarkDown<40000.\n",
    "# 2. In MarkDown 3 We can see a linear relation as MarkDown Increase Weekly Sales increases."
   ]
  },
  {
   "cell_type": "code",
   "execution_count": 38,
   "metadata": {
    "colab": {},
    "colab_type": "code",
    "id": "0wGZ87ardayG",
    "outputId": "9a2e7292-85fd-4b2d-ac17-6ead7a8022be"
   },
   "outputs": [
    {
     "data": {
      "image/png": "[encoded data removed]",
      "text/plain": [
       "<Figure size 432x288 with 1 Axes>"
      ]
     },
     "metadata": {
      "needs_background": "light"
     },
     "output_type": "display_data"
    }
   ],
   "source": [
    "# CPI VS Weekly_Sales\n",
    "plt.scatter(train.CPI,train.Weekly_Sales)\n",
    "plt.xlabel('CPI')\n",
    "plt.ylabel('Weekly Sales')\n",
    "plt.show()"
   ]
  },
  {
   "cell_type": "code",
   "execution_count": null,
   "metadata": {},
   "outputs": [],
   "source": [
    "# 1. We can see that there are two sets of Stores.\n",
    "# 2. Stores with CPI<150 and Stores with CPI>180\n",
    "# 3. So we can assume that Stores are from different regions.\n",
    "# 3. Weekly_Sales is more if CPI is less."
   ]
  },
  {
   "cell_type": "code",
   "execution_count": 39,
   "metadata": {
    "colab": {},
    "colab_type": "code",
    "id": "tRKwkslldayR",
    "outputId": "b8e33f2a-107c-4feb-d0ca-2739248daf81"
   },
   "outputs": [
    {
     "data": {
      "image/png": "[encoded data removed]",
      "text/plain": [
       "<Figure size 432x288 with 1 Axes>"
      ]
     },
     "metadata": {
      "needs_background": "light"
     },
     "output_type": "display_data"
    }
   ],
   "source": [
    "# Unemployment VS Weekly_Sales\n",
    "plt.scatter(train.Unemployment,train.Weekly_Sales)\n",
    "plt.xlabel('Unemployment')\n",
    "plt.ylabel('Weekly Sales')\n",
    "plt.show()"
   ]
  },
  {
   "cell_type": "code",
   "execution_count": null,
   "metadata": {},
   "outputs": [],
   "source": [
    "# 1. We can see that Weekly Sales is more when Unemployment is less."
   ]
  },
  {
   "cell_type": "code",
   "execution_count": 0,
   "metadata": {
    "colab": {},
    "colab_type": "code",
    "id": "H-lI1Vv3dayX",
    "outputId": "4e8b7577-a369-4168-9503-86ff61cee6d4"
   },
   "outputs": [
    {
     "data": {
      "text/plain": [
       "<matplotlib.collections.PathCollection at 0xf7bb080>"
      ]
     },
     "execution_count": 28,
     "metadata": {
      "tags": []
     },
     "output_type": "execute_result"
    },
    {
     "data": {
      "image/png": "[encoded data removed]",
      "text/plain": [
       "<Figure size 432x288 with 1 Axes>"
      ]
     },
     "metadata": {
      "needs_background": "light",
      "tags": []
     },
     "output_type": "display_data"
    }
   ],
   "source": [
    "# Size of Stores VS Weekly_Sales\n",
    "plt.scatter(train.Size,train.Weekly_Sales)\n",
    "plt.xlabel('Size')\n",
    "plt.ylabel('Weekly Sales')\n",
    "plt.show"
   ]
  },
  {
   "cell_type": "code",
   "execution_count": null,
   "metadata": {},
   "outputs": [],
   "source": [
    "# 1. We can observe that as the size od stores increase Weekly_Sales also increases.\n",
    "# 2. Stores between Size of 110000-130000 and 200000-210000 have higher Weekly_Sales."
   ]
  },
  {
   "cell_type": "code",
   "execution_count": 0,
   "metadata": {
    "colab": {},
    "colab_type": "code",
    "id": "kPdoo6R_dayd",
    "outputId": "1afe67b3-2a2e-489a-f90d-cb0670918911"
   },
   "outputs": [
    {
     "data": {
      "text/plain": [
       "<matplotlib.axes._subplots.AxesSubplot at 0x2197a4a8>"
      ]
     },
     "execution_count": 29,
     "metadata": {
      "tags": []
     },
     "output_type": "execute_result"
    },
    {
     "data": {
      "image/png": "[encoded data removed]",
      "text/plain": [
       "<Figure size 576x288 with 1 Axes>"
      ]
     },
     "metadata": {
      "needs_background": "light",
      "tags": []
     },
     "output_type": "display_data"
    }
   ],
   "source": [
    "# Type of Stores VS Average Weekly_Sales \n",
    "plt.figure(figsize=(8,4))\n",
    "sns.barplot(y='Weekly_Sales',x='Type',data=train)"
   ]
  },
  {
   "cell_type": "code",
   "execution_count": null,
   "metadata": {},
   "outputs": [],
   "source": [
    "# 1. Type A has Highest Average Weekly Sales."
   ]
  },
  {
   "cell_type": "code",
   "execution_count": 0,
   "metadata": {
    "colab": {},
    "colab_type": "code",
    "id": "XbDJ4cLudayi",
    "outputId": "fb597e6c-dace-4f60-c797-807d1c762747"
   },
   "outputs": [
    {
     "data": {
      "text/plain": [
       "<matplotlib.axes._subplots.AxesSubplot at 0x1a605208>"
      ]
     },
     "execution_count": 30,
     "metadata": {
      "tags": []
     },
     "output_type": "execute_result"
    },
    {
     "data": {
      "image/png": "[encoded data removed]",
      "text/plain": [
       "<Figure size 576x288 with 1 Axes>"
      ]
     },
     "metadata": {
      "needs_background": "light",
      "tags": []
     },
     "output_type": "display_data"
    }
   ],
   "source": [
    "# Year VS Average Weekly_Sales\n",
    "plt.figure(figsize=(8,4))\n",
    "sns.barplot(y='Weekly_Sales',x='Year',data=train)"
   ]
  },
  {
   "cell_type": "code",
   "execution_count": null,
   "metadata": {},
   "outputs": [],
   "source": [
    "# Average Weekly Sales is some how constant over the years."
   ]
  },
  {
   "cell_type": "code",
   "execution_count": 0,
   "metadata": {
    "colab": {},
    "colab_type": "code",
    "id": "kKu7OQj8dayq",
    "outputId": "8d898b43-c347-46ea-fd74-a14c8abd9c4c"
   },
   "outputs": [
    {
     "data": {
      "text/plain": [
       "<matplotlib.axes._subplots.AxesSubplot at 0x21739ac8>"
      ]
     },
     "execution_count": 31,
     "metadata": {
      "tags": []
     },
     "output_type": "execute_result"
    },
    {
     "data": {
      "image/png": "[encoded data removed]",
      "text/plain": [
       "<Figure size 432x288 with 1 Axes>"
      ]
     },
     "metadata": {
      "needs_background": "light",
      "tags": []
     },
     "output_type": "display_data"
    }
   ],
   "source": [
    "# Year VS Total Weekly_Sales\n",
    "train.groupby('Year').Weekly_Sales.sum().plot(kind='bar')"
   ]
  },
  {
   "cell_type": "code",
   "execution_count": null,
   "metadata": {},
   "outputs": [],
   "source": [
    "# 1. 2011 is the year with highest total sale."
   ]
  },
  {
   "cell_type": "code",
   "execution_count": 0,
   "metadata": {
    "colab": {},
    "colab_type": "code",
    "id": "OKz81DbQdayw",
    "outputId": "d46ae54f-a9e9-4f2c-b0f9-137229a50d90"
   },
   "outputs": [
    {
     "data": {
      "text/plain": [
       "<matplotlib.axes._subplots.AxesSubplot at 0x12626e48>"
      ]
     },
     "execution_count": 34,
     "metadata": {
      "tags": []
     },
     "output_type": "execute_result"
    },
    {
     "data": {
      "image/png": "[encoded data removed]",
      "text/plain": [
       "<Figure size 1008x1008 with 2 Axes>"
      ]
     },
     "metadata": {
      "needs_background": "light",
      "tags": []
     },
     "output_type": "display_data"
    }
   ],
   "source": [
    "# Correlation matrix to know if there is any correlation between independent variables and \n",
    "# dependent variables Also to know if there is multicolinarity in the dataset i.e is there \n",
    "# correlation between independent variables.\n",
    "plt.figure(figsize=(14,14))\n",
    "sns.heatmap(train.corr(),annot=True)"
   ]
  },
  {
   "cell_type": "code",
   "execution_count": null,
   "metadata": {},
   "outputs": [],
   "source": [
    "# 1. Weekly Sales have highest correlation with Size , as the Size of Store Increase \n",
    "#    Weekly Sales increases.\n",
    "# 2. As Year increase price of Fuel also increase.\n",
    "# 3. Unemployment and CPI are negatively correlated as the Unemployment decreases,CPI increses.\n",
    "# 4. Year is correlated with MarkDown 1,4,5 and Unemployment is decreasing over the years.\n",
    "# 5. MarkDown 4 & 5 are correlated to MarkDown 1."
   ]
  },
  {
   "cell_type": "markdown",
   "metadata": {
    "colab": {},
    "colab_type": "code",
    "id": "JDLom_FCu24L"
   },
   "source": [
    "### Feature Transformation\n",
    "#### Normalizing continuous variables"
   ]
  },
  {
   "cell_type": "code",
   "execution_count": 0,
   "metadata": {
    "colab": {},
    "colab_type": "code",
    "id": "_Scph7T-vDAJ"
   },
   "outputs": [],
   "source": [
    "norm_train=train.drop(['Store','Dept','Date','Weekly_Sales','IsHoliday','Type','Year','Day','Month','Week'],axis=1)\n",
    "norm_test=test.drop(['Store','Dept','Date','IsHoliday','Type','Year','Day','Month','Week'],axis=1)\n",
    "norm_train=(norm_train-norm_train.mean())/norm_train.std()\n",
    "norm_test=(norm_test-norm_test.mean())/norm_test.std()\n",
    "train=train[['Store','Dept','Weekly_Sales','IsHoliday','Type','Year','Day','Month','Week']]\n",
    "test=test[['Store','Dept','IsHoliday','Type','Year','Day','Month','Week']]\n",
    "train=pd.concat([train,norm_train],axis=1)\n",
    "test=pd.concat([test,norm_test],axis=1)"
   ]
  },
  {
   "cell_type": "code",
   "execution_count": 0,
   "metadata": {
    "colab": {},
    "colab_type": "code",
    "id": "tUh6IOGtday3"
   },
   "outputs": [],
   "source": [
    "# Changing Labels for IsHoliday : True:1 and False:0\n",
    "train.IsHoliday=train.IsHoliday.apply(lambda x:1 if x==True else 0)\n",
    "test.IsHoliday=test.IsHoliday.apply(lambda x:1 if x==True else 0)"
   ]
  },
  {
   "cell_type": "code",
   "execution_count": 0,
   "metadata": {
    "colab": {},
    "colab_type": "code",
    "id": "U5VdX-scday8"
   },
   "outputs": [],
   "source": [
    "# Getting Dummy Variables for Type Column : Type_A,Type_B,Type_c\n",
    "train=pd.get_dummies(train,columns=['Type'])\n",
    "test=pd.get_dummies(test,columns=['Type'])"
   ]
  },
  {
   "cell_type": "code",
   "execution_count": 0,
   "metadata": {
    "colab": {},
    "colab_type": "code",
    "id": "eUyIDMN2dazY"
   },
   "outputs": [],
   "source": [
    "# Splitting train set into dependent variable and independent vraiables.\n",
    "x=train.drop('Weekly_Sales',axis=1) # Independent Varaiables\n",
    "y=train.Weekly_Sales # Dependent Vraiable"
   ]
  },
  {
   "cell_type": "code",
   "execution_count": 0,
   "metadata": {
    "colab": {},
    "colab_type": "code",
    "id": "ZHlmdEHVdazd"
   },
   "outputs": [],
   "source": [
    "# Using Standard Scaler to scale data under one scale.\n",
    "from sklearn.preprocessing import StandardScaler"
   ]
  },
  {
   "cell_type": "code",
   "execution_count": 0,
   "metadata": {
    "colab": {},
    "colab_type": "code",
    "id": "pq0w7hzAdazh"
   },
   "outputs": [],
   "source": [
    "sc=StandardScaler()\n",
    "scaled_x=sc.fit_transform(x)# First,fit_transoform train data to set scale.\n",
    "scaled_x=pd.DataFrame(scaled_x,columns=x.columns)\n",
    "scaled_test=sc.transform(test)# then applied that scale to test data as well.\n",
    "scaled_test=pd.DataFrame(scaled_test,columns=test.columns)"
   ]
  },
  {
   "cell_type": "code",
   "execution_count": 0,
   "metadata": {
    "colab": {},
    "colab_type": "code",
    "id": "y_hM0j5Adazp"
   },
   "outputs": [],
   "source": [
    "# Using Train_Test_Split to divide the train data in train and validaion set.\n",
    "from sklearn.model_selection import train_test_split"
   ]
  },
  {
   "cell_type": "code",
   "execution_count": 0,
   "metadata": {
    "colab": {},
    "colab_type": "code",
    "id": "CDfwBlYJdazv"
   },
   "outputs": [],
   "source": [
    "# Using Validation set size of 30% and Random_state=10\n",
    "xtrain,xtest,ytrain,ytest=train_test_split(scaled_x,y,test_size=0.3,random_state=10)"
   ]
  },
  {
   "cell_type": "code",
   "execution_count": 0,
   "metadata": {
    "colab": {},
    "colab_type": "code",
    "id": "kuUvnBDtdazz"
   },
   "outputs": [],
   "source": [
    "# Importing Libraries for Machine Learning Algorithm.\n",
    "from sklearn.linear_model import LinearRegression \n",
    "from sklearn.tree import DecisionTreeRegressor\n",
    "from sklearn.ensemble import BaggingRegressor,AdaBoostRegressor,RandomForestRegressor,VotingRegressor\n",
    "from lightgbm import LGBMRegressor"
   ]
  },
  {
   "cell_type": "code",
   "execution_count": 0,
   "metadata": {
    "colab": {},
    "colab_type": "code",
    "id": "QLmQvM5pdaz3"
   },
   "outputs": [],
   "source": [
    "# Using Mean Squared Error and RMSE as evalutaion metrics for different models.\n",
    "from sklearn.metrics import mean_squared_error"
   ]
  },
  {
   "cell_type": "code",
   "execution_count": 0,
   "metadata": {
    "colab": {},
    "colab_type": "code",
    "id": "iKRPnL5Ndaz8"
   },
   "outputs": [],
   "source": [
    "#Linear Regression\n",
    "lr_model = LinearRegression()"
   ]
  },
  {
   "cell_type": "code",
   "execution_count": 0,
   "metadata": {
    "colab": {},
    "colab_type": "code",
    "id": "iuKjJO78da0B"
   },
   "outputs": [],
   "source": [
    "#  Fully grown decision Tree\n",
    "dt_model = DecisionTreeRegressor(random_state=10)"
   ]
  },
  {
   "cell_type": "code",
   "execution_count": 0,
   "metadata": {
    "colab": {},
    "colab_type": "code",
    "id": "0cOFam3Dda0N"
   },
   "outputs": [],
   "source": [
    "# Boostrap Sampled Random Forest : with the hope of controlling the bias errors and variance errors\n",
    "rf_model= RandomForestRegressor(n_estimators=20,random_state=10 )"
   ]
  },
  {
   "cell_type": "code",
   "execution_count": 0,
   "metadata": {
    "colab": {},
    "colab_type": "code",
    "id": "cjFnYA4vda0S"
   },
   "outputs": [],
   "source": [
    "bg_model = BaggingRegressor(base_estimator=rf_model,n_estimators=20,random_state=10)\n",
    "adb_model= AdaBoostRegressor(base_estimator=dt_model,n_estimators=20 ,random_state=10)\n",
    "lgbm_model=LGBMRegressor()\n",
    "vr_model=VotingRegressor(estimators=[('LR',lr_model),('tree',dt_model),('RF',rf_model),\n",
    "                                     ('Bagg',bg_model),('ADB',adb_model),('LGBM',lgbm_model)])"
   ]
  },
  {
   "cell_type": "code",
   "execution_count": 0,
   "metadata": {
    "colab": {},
    "colab_type": "code",
    "id": "S52ZdV_pda0X"
   },
   "outputs": [],
   "source": [
    "models = []\n",
    "models.append(('Linear', lr_model))\n",
    "models.append(('DecisionTree', dt_model))\n",
    "models.append(('RandomForest', rf_model))\n",
    "models.append(('Bagging', bg_model))\n",
    "models.append(('ADA Boost', adb_model))\n",
    "models.append(('LGBM', lgbm_model))\n",
    "models.append(('Voting', vr_model))"
   ]
  },
  {
   "cell_type": "code",
   "execution_count": 0,
   "metadata": {
    "colab": {
     "base_uri": "https://localhost:8080/",
     "height": 672
    },
    "colab_type": "code",
    "id": "PBxlfYBbda0b",
    "outputId": "5750db0f-da39-42ce-b6fb-6a907ec5ef47"
   },
   "outputs": [
    {
     "name": "stdout",
     "output_type": "stream",
     "text": [
      "(RMSE Test) ----  Linear: 21661.664670\n",
      "(RMSE Train) ----  Linear: 21684.795614\n",
      "\n",
      "\n",
      "\n",
      "\n",
      "(RMSE Test) ----  DecisionTree: 5206.230782\n",
      "(RMSE Train) ----  DecisionTree: 0.000000\n",
      "\n",
      "\n",
      "\n",
      "\n",
      "(RMSE Test) ----  RandomForest: 3773.806650\n",
      "(RMSE Train) ----  RandomForest: 1407.285298\n",
      "\n",
      "\n",
      "\n",
      "\n",
      "(RMSE Test) ----  Bagging: 3756.495536\n",
      "(RMSE Train) ----  Bagging: 2191.249887\n",
      "\n",
      "\n",
      "\n",
      "\n",
      "(RMSE Test) ----  ADA Boost: 3804.013451\n",
      "(RMSE Train) ----  ADA Boost: 111.377759\n",
      "\n",
      "\n",
      "\n",
      "\n",
      "(RMSE Test) ----  LGBM: 6783.240424\n",
      "(RMSE Train) ----  LGBM: 6624.598974\n",
      "\n",
      "\n",
      "\n",
      "\n"
     ]
    }
   ],
   "source": [
    "for name,model in models :\n",
    "    model.fit(xtrain,ytrain)\n",
    "    pred_test=model.predict(xtest)\n",
    "    pred_train=model.predict(xtrain)\n",
    "    msg1 = \"(%s) ----  %s: %f\"% ('RMSE Test', name, np.sqrt(mean_squared_error(ytest,pred_test)))\n",
    "    msg2 = \"(%s) ----  %s: %f\"% ('RMSE Train', name, np.sqrt(mean_squared_error(ytrain,pred_train)))\n",
    "    print(msg1)\n",
    "    print(msg2)\n",
    "    print('\\n\\n\\n')"
   ]
  },
  {
   "cell_type": "code",
   "execution_count": null,
   "metadata": {},
   "outputs": [],
   "source": [
    "# Best Model : Bagging Regressor with Random Forest as base model \n",
    "# To reduce bias error in Random Forest and then reduce variance error through bagging."
   ]
  },
  {
   "cell_type": "markdown",
   "metadata": {
    "colab": {},
    "colab_type": "code",
    "id": "fBGbQWQsa3iD"
   },
   "source": [
    "### Getting P value using OLS method"
   ]
  },
  {
   "cell_type": "code",
   "execution_count": 0,
   "metadata": {
    "colab": {},
    "colab_type": "code",
    "id": "76CoEezqsYUn"
   },
   "outputs": [],
   "source": [
    "import statsmodels.api as sm"
   ]
  },
  {
   "cell_type": "code",
   "execution_count": 0,
   "metadata": {
    "colab": {},
    "colab_type": "code",
    "id": "XIz6hNfOsj0A"
   },
   "outputs": [],
   "source": [
    "lrml=sm.OLS(y,sm.add_constant(scaled_x))"
   ]
  },
  {
   "cell_type": "code",
   "execution_count": 56,
   "metadata": {
    "colab": {
     "base_uri": "https://localhost:8080/",
     "height": 892
    },
    "colab_type": "code",
    "id": "AEk0PGgrR_Ra",
    "outputId": "6792cffa-b66d-4af0-b7c0-0b590add3790"
   },
   "outputs": [
    {
     "data": {
      "text/html": [
       "<table class=\"simpletable\">\n",
       "<caption>OLS Regression Results</caption>\n",
       "<tr>\n",
       "  <th>Dep. Variable:</th>      <td>Weekly_Sales</td>   <th>  R-squared:         </th>  <td>   0.089</td>  \n",
       "</tr>\n",
       "<tr>\n",
       "  <th>Model:</th>                   <td>OLS</td>       <th>  Adj. R-squared:    </th>  <td>   0.089</td>  \n",
       "</tr>\n",
       "<tr>\n",
       "  <th>Method:</th>             <td>Least Squares</td>  <th>  F-statistic:       </th>  <td>   2166.</td>  \n",
       "</tr>\n",
       "<tr>\n",
       "  <th>Date:</th>             <td>Wed, 20 Nov 2019</td> <th>  Prob (F-statistic):</th>   <td>  0.00</td>   \n",
       "</tr>\n",
       "<tr>\n",
       "  <th>Time:</th>                 <td>19:37:35</td>     <th>  Log-Likelihood:    </th> <td>-4.8071e+06</td>\n",
       "</tr>\n",
       "<tr>\n",
       "  <th>No. Observations:</th>      <td>421570</td>      <th>  AIC:               </th>  <td>9.614e+06</td> \n",
       "</tr>\n",
       "<tr>\n",
       "  <th>Df Residuals:</th>          <td>421550</td>      <th>  BIC:               </th>  <td>9.615e+06</td> \n",
       "</tr>\n",
       "<tr>\n",
       "  <th>Df Model:</th>              <td>    19</td>      <th>                     </th>      <td> </td>     \n",
       "</tr>\n",
       "<tr>\n",
       "  <th>Covariance Type:</th>      <td>nonrobust</td>    <th>                     </th>      <td> </td>     \n",
       "</tr>\n",
       "</table>\n",
       "<table class=\"simpletable\">\n",
       "<tr>\n",
       "        <td></td>          <th>coef</th>     <th>std err</th>      <th>t</th>      <th>P>|t|</th>  <th>[0.025</th>    <th>0.975]</th>  \n",
       "</tr>\n",
       "<tr>\n",
       "  <th>const</th>        <td> 1.599e+04</td> <td>   45.093</td> <td>  354.685</td> <td> 0.000</td> <td> 1.59e+04</td> <td> 1.61e+04</td>\n",
       "</tr>\n",
       "<tr>\n",
       "  <th>Store</th>        <td>-1381.2560</td> <td>   39.599</td> <td>  -34.881</td> <td> 0.000</td> <td>-1458.868</td> <td>-1303.644</td>\n",
       "</tr>\n",
       "<tr>\n",
       "  <th>Dept</th>         <td> 3381.2830</td> <td>   33.441</td> <td>  101.111</td> <td> 0.000</td> <td> 3315.739</td> <td> 3446.827</td>\n",
       "</tr>\n",
       "<tr>\n",
       "  <th>IsHoliday</th>    <td>   66.5670</td> <td>   37.616</td> <td>    1.770</td> <td> 0.077</td> <td>   -7.158</td> <td>  140.292</td>\n",
       "</tr>\n",
       "<tr>\n",
       "  <th>Year</th>         <td> -588.1550</td> <td>  126.602</td> <td>   -4.646</td> <td> 0.000</td> <td> -836.291</td> <td> -340.020</td>\n",
       "</tr>\n",
       "<tr>\n",
       "  <th>Day</th>          <td> -156.5744</td> <td>  582.859</td> <td>   -0.269</td> <td> 0.788</td> <td>-1298.961</td> <td>  985.812</td>\n",
       "</tr>\n",
       "<tr>\n",
       "  <th>Month</th>        <td>  265.6660</td> <td> 6558.631</td> <td>    0.041</td> <td> 0.968</td> <td>-1.26e+04</td> <td> 1.31e+04</td>\n",
       "</tr>\n",
       "<tr>\n",
       "  <th>Week</th>         <td>  207.1099</td> <td> 6573.301</td> <td>    0.032</td> <td> 0.975</td> <td>-1.27e+04</td> <td> 1.31e+04</td>\n",
       "</tr>\n",
       "<tr>\n",
       "  <th>Temperature</th>  <td>  -23.2106</td> <td>   41.577</td> <td>   -0.558</td> <td> 0.577</td> <td> -104.700</td> <td>   58.279</td>\n",
       "</tr>\n",
       "<tr>\n",
       "  <th>Fuel_Price</th>   <td>  208.7669</td> <td>   70.524</td> <td>    2.960</td> <td> 0.003</td> <td>   70.543</td> <td>  346.991</td>\n",
       "</tr>\n",
       "<tr>\n",
       "  <th>MarkDown1</th>    <td>  245.1901</td> <td>   71.024</td> <td>    3.452</td> <td> 0.001</td> <td>  105.984</td> <td>  384.396</td>\n",
       "</tr>\n",
       "<tr>\n",
       "  <th>MarkDown2</th>    <td>  -14.7326</td> <td>   36.079</td> <td>   -0.408</td> <td> 0.683</td> <td>  -85.447</td> <td>   55.982</td>\n",
       "</tr>\n",
       "<tr>\n",
       "  <th>MarkDown3</th>    <td>  588.1837</td> <td>   35.172</td> <td>   16.723</td> <td> 0.000</td> <td>  519.247</td> <td>  657.121</td>\n",
       "</tr>\n",
       "<tr>\n",
       "  <th>MarkDown4</th>    <td>  -13.2012</td> <td>   63.206</td> <td>   -0.209</td> <td> 0.835</td> <td> -137.082</td> <td>  110.680</td>\n",
       "</tr>\n",
       "<tr>\n",
       "  <th>MarkDown5</th>    <td>  407.3062</td> <td>   39.459</td> <td>   10.322</td> <td> 0.000</td> <td>  329.967</td> <td>  484.645</td>\n",
       "</tr>\n",
       "<tr>\n",
       "  <th>CPI</th>          <td> -965.3765</td> <td>   39.554</td> <td>  -24.407</td> <td> 0.000</td> <td>-1042.901</td> <td> -887.852</td>\n",
       "</tr>\n",
       "<tr>\n",
       "  <th>Unemployment</th> <td> -394.7325</td> <td>   38.334</td> <td>  -10.297</td> <td> 0.000</td> <td> -469.865</td> <td> -319.600</td>\n",
       "</tr>\n",
       "<tr>\n",
       "  <th>Size</th>         <td> 7445.7381</td> <td>  106.604</td> <td>   69.845</td> <td> 0.000</td> <td> 7236.798</td> <td> 7654.679</td>\n",
       "</tr>\n",
       "<tr>\n",
       "  <th>Type_A</th>       <td>-2.037e+15</td> <td> 4.96e+15</td> <td>   -0.410</td> <td> 0.682</td> <td>-1.18e+16</td> <td> 7.69e+15</td>\n",
       "</tr>\n",
       "<tr>\n",
       "  <th>Type_B</th>       <td>-1.938e+15</td> <td> 4.72e+15</td> <td>   -0.410</td> <td> 0.682</td> <td>-1.12e+16</td> <td> 7.32e+15</td>\n",
       "</tr>\n",
       "<tr>\n",
       "  <th>Type_C</th>       <td>-1.546e+15</td> <td> 3.77e+15</td> <td>   -0.410</td> <td> 0.682</td> <td>-8.93e+15</td> <td> 5.84e+15</td>\n",
       "</tr>\n",
       "</table>\n",
       "<table class=\"simpletable\">\n",
       "<tr>\n",
       "  <th>Omnibus:</th>       <td>295107.947</td> <th>  Durbin-Watson:     </th>  <td>   0.119</td>  \n",
       "</tr>\n",
       "<tr>\n",
       "  <th>Prob(Omnibus):</th>   <td> 0.000</td>   <th>  Jarque-Bera (JB):  </th> <td>8699906.080</td>\n",
       "</tr>\n",
       "<tr>\n",
       "  <th>Skew:</th>            <td> 3.004</td>   <th>  Prob(JB):          </th>  <td>    0.00</td>  \n",
       "</tr>\n",
       "<tr>\n",
       "  <th>Kurtosis:</th>        <td>24.429</td>   <th>  Cond. No.          </th>  <td>4.13e+14</td>  \n",
       "</tr>\n",
       "</table><br/><br/>Warnings:<br/>[1] Standard Errors assume that the covariance matrix of the errors is correctly specified.<br/>[2] The smallest eigenvalue is 7.69e-24. This might indicate that there are<br/>strong multicollinearity problems or that the design matrix is singular."
      ],
      "text/plain": [
       "<class 'statsmodels.iolib.summary.Summary'>\n",
       "\"\"\"\n",
       "                            OLS Regression Results                            \n",
       "==============================================================================\n",
       "Dep. Variable:           Weekly_Sales   R-squared:                       0.089\n",
       "Model:                            OLS   Adj. R-squared:                  0.089\n",
       "Method:                 Least Squares   F-statistic:                     2166.\n",
       "Date:                Wed, 20 Nov 2019   Prob (F-statistic):               0.00\n",
       "Time:                        19:37:35   Log-Likelihood:            -4.8071e+06\n",
       "No. Observations:              421570   AIC:                         9.614e+06\n",
       "Df Residuals:                  421550   BIC:                         9.615e+06\n",
       "Df Model:                          19                                         \n",
       "Covariance Type:            nonrobust                                         \n",
       "================================================================================\n",
       "                   coef    std err          t      P>|t|      [0.025      0.975]\n",
       "--------------------------------------------------------------------------------\n",
       "const         1.599e+04     45.093    354.685      0.000    1.59e+04    1.61e+04\n",
       "Store        -1381.2560     39.599    -34.881      0.000   -1458.868   -1303.644\n",
       "Dept          3381.2830     33.441    101.111      0.000    3315.739    3446.827\n",
       "IsHoliday       66.5670     37.616      1.770      0.077      -7.158     140.292\n",
       "Year          -588.1550    126.602     -4.646      0.000    -836.291    -340.020\n",
       "Day           -156.5744    582.859     -0.269      0.788   -1298.961     985.812\n",
       "Month          265.6660   6558.631      0.041      0.968   -1.26e+04    1.31e+04\n",
       "Week           207.1099   6573.301      0.032      0.975   -1.27e+04    1.31e+04\n",
       "Temperature    -23.2106     41.577     -0.558      0.577    -104.700      58.279\n",
       "Fuel_Price     208.7669     70.524      2.960      0.003      70.543     346.991\n",
       "MarkDown1      245.1901     71.024      3.452      0.001     105.984     384.396\n",
       "MarkDown2      -14.7326     36.079     -0.408      0.683     -85.447      55.982\n",
       "MarkDown3      588.1837     35.172     16.723      0.000     519.247     657.121\n",
       "MarkDown4      -13.2012     63.206     -0.209      0.835    -137.082     110.680\n",
       "MarkDown5      407.3062     39.459     10.322      0.000     329.967     484.645\n",
       "CPI           -965.3765     39.554    -24.407      0.000   -1042.901    -887.852\n",
       "Unemployment  -394.7325     38.334    -10.297      0.000    -469.865    -319.600\n",
       "Size          7445.7381    106.604     69.845      0.000    7236.798    7654.679\n",
       "Type_A       -2.037e+15   4.96e+15     -0.410      0.682   -1.18e+16    7.69e+15\n",
       "Type_B       -1.938e+15   4.72e+15     -0.410      0.682   -1.12e+16    7.32e+15\n",
       "Type_C       -1.546e+15   3.77e+15     -0.410      0.682   -8.93e+15    5.84e+15\n",
       "==============================================================================\n",
       "Omnibus:                   295107.947   Durbin-Watson:                   0.119\n",
       "Prob(Omnibus):                  0.000   Jarque-Bera (JB):          8699906.080\n",
       "Skew:                           3.004   Prob(JB):                         0.00\n",
       "Kurtosis:                      24.429   Cond. No.                     4.13e+14\n",
       "==============================================================================\n",
       "\n",
       "Warnings:\n",
       "[1] Standard Errors assume that the covariance matrix of the errors is correctly specified.\n",
       "[2] The smallest eigenvalue is 7.69e-24. This might indicate that there are\n",
       "strong multicollinearity problems or that the design matrix is singular.\n",
       "\"\"\""
      ]
     },
     "execution_count": 56,
     "metadata": {
      "tags": []
     },
     "output_type": "execute_result"
    }
   ],
   "source": [
    "lrml.fit().summary()"
   ]
  },
  {
   "cell_type": "markdown",
   "metadata": {
    "colab": {},
    "colab_type": "code",
    "id": "iq9Q8dA0c8lD"
   },
   "source": [
    "### Using Backword Selection\n",
    "#### 1. Find out that feature which has the Max P value that is greater than 0.05 and drop them\n",
    "#### 2. keep doing it till get a feature with low P value"
   ]
  },
  {
   "cell_type": "code",
   "execution_count": 93,
   "metadata": {
    "colab": {
     "base_uri": "https://localhost:8080/",
     "height": 729
    },
    "colab_type": "code",
    "id": "mtbfjgQCdLBk",
    "outputId": "bbff1bed-b5c7-442c-8edb-98ed8d7953f6"
   },
   "outputs": [
    {
     "data": {
      "text/html": [
       "<table class=\"simpletable\">\n",
       "<caption>OLS Regression Results</caption>\n",
       "<tr>\n",
       "  <th>Dep. Variable:</th>      <td>Weekly_Sales</td>   <th>  R-squared:         </th>  <td>   0.089</td>  \n",
       "</tr>\n",
       "<tr>\n",
       "  <th>Model:</th>                   <td>OLS</td>       <th>  Adj. R-squared:    </th>  <td>   0.089</td>  \n",
       "</tr>\n",
       "<tr>\n",
       "  <th>Method:</th>             <td>Least Squares</td>  <th>  F-statistic:       </th>  <td>   2926.</td>  \n",
       "</tr>\n",
       "<tr>\n",
       "  <th>Date:</th>             <td>Wed, 20 Nov 2019</td> <th>  Prob (F-statistic):</th>   <td>  0.00</td>   \n",
       "</tr>\n",
       "<tr>\n",
       "  <th>Time:</th>                 <td>20:20:52</td>     <th>  Log-Likelihood:    </th> <td>-4.8072e+06</td>\n",
       "</tr>\n",
       "<tr>\n",
       "  <th>No. Observations:</th>      <td>421570</td>      <th>  AIC:               </th>  <td>9.615e+06</td> \n",
       "</tr>\n",
       "<tr>\n",
       "  <th>Df Residuals:</th>          <td>421555</td>      <th>  BIC:               </th>  <td>9.615e+06</td> \n",
       "</tr>\n",
       "<tr>\n",
       "  <th>Df Model:</th>              <td>    14</td>      <th>                     </th>      <td> </td>     \n",
       "</tr>\n",
       "<tr>\n",
       "  <th>Covariance Type:</th>      <td>nonrobust</td>    <th>                     </th>      <td> </td>     \n",
       "</tr>\n",
       "</table>\n",
       "<table class=\"simpletable\">\n",
       "<tr>\n",
       "        <td></td>          <th>coef</th>     <th>std err</th>      <th>t</th>      <th>P>|t|</th>  <th>[0.025</th>    <th>0.975]</th>  \n",
       "</tr>\n",
       "<tr>\n",
       "  <th>const</th>        <td> 1.598e+04</td> <td>   33.394</td> <td>  478.571</td> <td> 0.000</td> <td> 1.59e+04</td> <td>  1.6e+04</td>\n",
       "</tr>\n",
       "<tr>\n",
       "  <th>Store</th>        <td>-1367.9041</td> <td>   36.584</td> <td>  -37.391</td> <td> 0.000</td> <td>-1439.608</td> <td>-1296.201</td>\n",
       "</tr>\n",
       "<tr>\n",
       "  <th>Dept</th>         <td> 3382.5513</td> <td>   33.412</td> <td>  101.237</td> <td> 0.000</td> <td> 3317.064</td> <td> 3448.038</td>\n",
       "</tr>\n",
       "<tr>\n",
       "  <th>IsHoliday</th>    <td>  126.7918</td> <td>   35.180</td> <td>    3.604</td> <td> 0.000</td> <td>   57.839</td> <td>  195.744</td>\n",
       "</tr>\n",
       "<tr>\n",
       "  <th>Year</th>         <td> -885.5819</td> <td>   68.923</td> <td>  -12.849</td> <td> 0.000</td> <td>-1020.670</td> <td> -750.494</td>\n",
       "</tr>\n",
       "<tr>\n",
       "  <th>Temperature</th>  <td>  112.2034</td> <td>   37.371</td> <td>    3.002</td> <td> 0.003</td> <td>   38.958</td> <td>  185.449</td>\n",
       "</tr>\n",
       "<tr>\n",
       "  <th>Fuel_Price</th>   <td>  370.9764</td> <td>   61.392</td> <td>    6.043</td> <td> 0.000</td> <td>  250.650</td> <td>  491.303</td>\n",
       "</tr>\n",
       "<tr>\n",
       "  <th>MarkDown1</th>    <td>  267.5352</td> <td>   41.557</td> <td>    6.438</td> <td> 0.000</td> <td>  186.084</td> <td>  348.986</td>\n",
       "</tr>\n",
       "<tr>\n",
       "  <th>MarkDown3</th>    <td>  619.7672</td> <td>   34.791</td> <td>   17.814</td> <td> 0.000</td> <td>  551.578</td> <td>  687.956</td>\n",
       "</tr>\n",
       "<tr>\n",
       "  <th>MarkDown5</th>    <td>  507.6434</td> <td>   38.648</td> <td>   13.135</td> <td> 0.000</td> <td>  431.895</td> <td>  583.392</td>\n",
       "</tr>\n",
       "<tr>\n",
       "  <th>CPI</th>          <td> -957.9230</td> <td>   39.313</td> <td>  -24.367</td> <td> 0.000</td> <td>-1034.975</td> <td> -880.872</td>\n",
       "</tr>\n",
       "<tr>\n",
       "  <th>Unemployment</th> <td> -462.1027</td> <td>   37.593</td> <td>  -12.292</td> <td> 0.000</td> <td> -535.784</td> <td> -388.422</td>\n",
       "</tr>\n",
       "<tr>\n",
       "  <th>Size</th>         <td> 7339.0273</td> <td>  105.224</td> <td>   69.747</td> <td> 0.000</td> <td> 7132.792</td> <td> 7545.263</td>\n",
       "</tr>\n",
       "<tr>\n",
       "  <th>Type_B</th>       <td>  858.1627</td> <td>   75.492</td> <td>   11.368</td> <td> 0.000</td> <td>  710.200</td> <td> 1006.125</td>\n",
       "</tr>\n",
       "<tr>\n",
       "  <th>Type_C</th>       <td> 2654.7251</td> <td>  106.963</td> <td>   24.819</td> <td> 0.000</td> <td> 2445.081</td> <td> 2864.370</td>\n",
       "</tr>\n",
       "</table>\n",
       "<table class=\"simpletable\">\n",
       "<tr>\n",
       "  <th>Omnibus:</th>       <td>295336.449</td> <th>  Durbin-Watson:     </th>  <td>   0.120</td>  \n",
       "</tr>\n",
       "<tr>\n",
       "  <th>Prob(Omnibus):</th>   <td> 0.000</td>   <th>  Jarque-Bera (JB):  </th> <td>8721379.836</td>\n",
       "</tr>\n",
       "<tr>\n",
       "  <th>Skew:</th>            <td> 3.007</td>   <th>  Prob(JB):          </th>  <td>    0.00</td>  \n",
       "</tr>\n",
       "<tr>\n",
       "  <th>Kurtosis:</th>        <td>24.456</td>   <th>  Cond. No.          </th>  <td>    7.67</td>  \n",
       "</tr>\n",
       "</table><br/><br/>Warnings:<br/>[1] Standard Errors assume that the covariance matrix of the errors is correctly specified."
      ],
      "text/plain": [
       "<class 'statsmodels.iolib.summary.Summary'>\n",
       "\"\"\"\n",
       "                            OLS Regression Results                            \n",
       "==============================================================================\n",
       "Dep. Variable:           Weekly_Sales   R-squared:                       0.089\n",
       "Model:                            OLS   Adj. R-squared:                  0.089\n",
       "Method:                 Least Squares   F-statistic:                     2926.\n",
       "Date:                Wed, 20 Nov 2019   Prob (F-statistic):               0.00\n",
       "Time:                        20:20:52   Log-Likelihood:            -4.8072e+06\n",
       "No. Observations:              421570   AIC:                         9.615e+06\n",
       "Df Residuals:                  421555   BIC:                         9.615e+06\n",
       "Df Model:                          14                                         \n",
       "Covariance Type:            nonrobust                                         \n",
       "================================================================================\n",
       "                   coef    std err          t      P>|t|      [0.025      0.975]\n",
       "--------------------------------------------------------------------------------\n",
       "const         1.598e+04     33.394    478.571      0.000    1.59e+04     1.6e+04\n",
       "Store        -1367.9041     36.584    -37.391      0.000   -1439.608   -1296.201\n",
       "Dept          3382.5513     33.412    101.237      0.000    3317.064    3448.038\n",
       "IsHoliday      126.7918     35.180      3.604      0.000      57.839     195.744\n",
       "Year          -885.5819     68.923    -12.849      0.000   -1020.670    -750.494\n",
       "Temperature    112.2034     37.371      3.002      0.003      38.958     185.449\n",
       "Fuel_Price     370.9764     61.392      6.043      0.000     250.650     491.303\n",
       "MarkDown1      267.5352     41.557      6.438      0.000     186.084     348.986\n",
       "MarkDown3      619.7672     34.791     17.814      0.000     551.578     687.956\n",
       "MarkDown5      507.6434     38.648     13.135      0.000     431.895     583.392\n",
       "CPI           -957.9230     39.313    -24.367      0.000   -1034.975    -880.872\n",
       "Unemployment  -462.1027     37.593    -12.292      0.000    -535.784    -388.422\n",
       "Size          7339.0273    105.224     69.747      0.000    7132.792    7545.263\n",
       "Type_B         858.1627     75.492     11.368      0.000     710.200    1006.125\n",
       "Type_C        2654.7251    106.963     24.819      0.000    2445.081    2864.370\n",
       "==============================================================================\n",
       "Omnibus:                   295336.449   Durbin-Watson:                   0.120\n",
       "Prob(Omnibus):                  0.000   Jarque-Bera (JB):          8721379.836\n",
       "Skew:                           3.007   Prob(JB):                         0.00\n",
       "Kurtosis:                      24.456   Cond. No.                         7.67\n",
       "==============================================================================\n",
       "\n",
       "Warnings:\n",
       "[1] Standard Errors assume that the covariance matrix of the errors is correctly specified.\n",
       "\"\"\""
      ]
     },
     "execution_count": 93,
     "metadata": {
      "tags": []
     },
     "output_type": "execute_result"
    }
   ],
   "source": [
    "lrml=sm.OLS(y,sm.add_constant(scaled_x.drop(['Week','Month','MarkDown4','Day','MarkDown2','Type_A'],axis=1))).fit()\n",
    "lrml.summary()"
   ]
  },
  {
   "cell_type": "markdown",
   "metadata": {
    "colab": {},
    "colab_type": "code",
    "id": "djUimCNpSEq7"
   },
   "source": [
    "### Statistical Test\n",
    "#### Ho:m1==m2\n",
    "#### H1:m1!=m2\n",
    "#### Our Null Hypothesis is that the independent variables are insignificant."
   ]
  },
  {
   "cell_type": "code",
   "execution_count": 0,
   "metadata": {
    "colab": {},
    "colab_type": "code",
    "id": "1Mmf_qVIUMuS"
   },
   "outputs": [],
   "source": [
    "import scipy.stats"
   ]
  },
  {
   "cell_type": "code",
   "execution_count": 63,
   "metadata": {
    "colab": {
     "base_uri": "https://localhost:8080/",
     "height": 35
    },
    "colab_type": "code",
    "id": "OkkpTcNRUWIw",
    "outputId": "02c52f63-64c6-40ed-b470-f186f532c7e6"
   },
   "outputs": [
    {
     "data": {
      "text/plain": [
       "Ttest_indResult(statistic=-456.8931215748433, pvalue=0.0)"
      ]
     },
     "execution_count": 63,
     "metadata": {
      "tags": []
     },
     "output_type": "execute_result"
    }
   ],
   "source": [
    "scipy.stats.ttest_ind(scaled_x.Day,train.Weekly_Sales)"
   ]
  },
  {
   "cell_type": "code",
   "execution_count": 64,
   "metadata": {
    "colab": {
     "base_uri": "https://localhost:8080/",
     "height": 35
    },
    "colab_type": "code",
    "id": "6D8OCyVSVTdp",
    "outputId": "d94d5bee-58e8-42e0-a259-7c4a0e4aef0e"
   },
   "outputs": [
    {
     "data": {
      "text/plain": [
       "Ttest_indResult(statistic=-456.8931215748433, pvalue=0.0)"
      ]
     },
     "execution_count": 64,
     "metadata": {
      "tags": []
     },
     "output_type": "execute_result"
    }
   ],
   "source": [
    "scipy.stats.ttest_ind(scaled_x.Week,train.Weekly_Sales)"
   ]
  },
  {
   "cell_type": "code",
   "execution_count": 65,
   "metadata": {
    "colab": {
     "base_uri": "https://localhost:8080/",
     "height": 35
    },
    "colab_type": "code",
    "id": "bNWZGnUzVoba",
    "outputId": "88bd06d4-476d-4d43-b331-dd8440f23a61"
   },
   "outputs": [
    {
     "data": {
      "text/plain": [
       "Ttest_indResult(statistic=-456.8931215748433, pvalue=0.0)"
      ]
     },
     "execution_count": 65,
     "metadata": {
      "tags": []
     },
     "output_type": "execute_result"
    }
   ],
   "source": [
    "scipy.stats.ttest_ind(scaled_x.Temperature,train.Weekly_Sales)"
   ]
  },
  {
   "cell_type": "code",
   "execution_count": 69,
   "metadata": {
    "colab": {
     "base_uri": "https://localhost:8080/",
     "height": 35
    },
    "colab_type": "code",
    "id": "PSxHpPfVVuKm",
    "outputId": "56335e26-6a3a-4c45-f69b-c42b9f54d22e"
   },
   "outputs": [
    {
     "data": {
      "text/plain": [
       "Ttest_indResult(statistic=-456.8931215748433, pvalue=0.0)"
      ]
     },
     "execution_count": 69,
     "metadata": {
      "tags": []
     },
     "output_type": "execute_result"
    }
   ],
   "source": [
    "scipy.stats.ttest_ind(scaled_x.Year,train.Weekly_Sales)"
   ]
  },
  {
   "cell_type": "code",
   "execution_count": 0,
   "metadata": {
    "colab": {},
    "colab_type": "code",
    "id": "7LtV3yW0WPkH"
   },
   "outputs": [],
   "source": [
    "type_a=train[train.Type_A==1]['Weekly_Sales']\n",
    "type_b=train[train.Type_B==1]['Weekly_Sales']\n",
    "type_c=train[train.Type_C==1]['Weekly_Sales']"
   ]
  },
  {
   "cell_type": "code",
   "execution_count": 78,
   "metadata": {
    "colab": {
     "base_uri": "https://localhost:8080/",
     "height": 35
    },
    "colab_type": "code",
    "id": "K5_JxLrmYRd2",
    "outputId": "2c2894e2-69d5-4ead-ac3a-6c75854d565a"
   },
   "outputs": [
    {
     "data": {
      "text/plain": [
       "F_onewayResult(statistic=10866.817951833642, pvalue=0.0)"
      ]
     },
     "execution_count": 78,
     "metadata": {
      "tags": []
     },
     "output_type": "execute_result"
    }
   ],
   "source": [
    "scipy.stats.f_oneway(type_a,type_b,type_c)"
   ]
  },
  {
   "cell_type": "code",
   "execution_count": 0,
   "metadata": {
    "colab": {},
    "colab_type": "code",
    "id": "id7T2hY6Yqk2"
   },
   "outputs": [],
   "source": [
    "yes_holiday=train[train.IsHoliday==1]['Weekly_Sales']\n",
    "no_holiday=train[train.IsHoliday==0]['Weekly_Sales']"
   ]
  },
  {
   "cell_type": "code",
   "execution_count": 82,
   "metadata": {
    "colab": {
     "base_uri": "https://localhost:8080/",
     "height": 35
    },
    "colab_type": "code",
    "id": "ivjDMkvJY0y-",
    "outputId": "b8e190d7-ea1e-4037-f182-30aa6ed4c5c0"
   },
   "outputs": [
    {
     "data": {
      "text/plain": [
       "Ttest_indResult(statistic=8.295284324945747, pvalue=1.0863917608407316e-16)"
      ]
     },
     "execution_count": 82,
     "metadata": {
      "tags": []
     },
     "output_type": "execute_result"
    }
   ],
   "source": [
    "scipy.stats.ttest_ind(yes_holiday,no_holiday,equal_var=True)"
   ]
  },
  {
   "cell_type": "code",
   "execution_count": 0,
   "metadata": {
    "colab": {},
    "colab_type": "code",
    "id": "aVsUSQAAZgeN"
   },
   "outputs": [],
   "source": [
    "# By performing some statistical test on independent variables as Pvalue is less than 0.05\n",
    "# We can say that these vairables are significant."
   ]
  },
  {
   "cell_type": "markdown",
   "metadata": {
    "colab": {},
    "colab_type": "code",
    "id": "RiIUNFK6lPiP"
   },
   "source": [
    "### Feature Elimination Using Random Forest Feature Importance"
   ]
  },
  {
   "cell_type": "code",
   "execution_count": 0,
   "metadata": {
    "colab": {
     "base_uri": "https://localhost:8080/",
     "height": 53
    },
    "colab_type": "code",
    "id": "Mi9xQFAzk_gi",
    "outputId": "dded6828-c158-416a-ba9d-46fab9a8f817"
   },
   "outputs": [
    {
     "name": "stdout",
     "output_type": "stream",
     "text": [
      "(RMSE Test) ----  : 3809.742120\n",
      "(RMSE Train) ----  : 1406.963911\n"
     ]
    }
   ],
   "source": [
    "rf_model.fit(xtrain,ytrain)\n",
    "pred_test=rf_model.predict(xtest)\n",
    "pred_train=rf_model.predict(xtrain)\n",
    "msg1 = \"(%s) ----  : %f\"% ('RMSE Test',  np.sqrt(mean_squared_error(ytest,pred_test)))\n",
    "msg2 = \"(%s) ----  : %f\"% ('RMSE Train',  np.sqrt(mean_squared_error(ytrain,pred_train)))\n",
    "print(msg1)\n",
    "print(msg2)"
   ]
  },
  {
   "cell_type": "code",
   "execution_count": 0,
   "metadata": {
    "colab": {},
    "colab_type": "code",
    "id": "UutphMVsqrT3"
   },
   "outputs": [],
   "source": [
    "df=pd.DataFrame(rf_model.feature_importances_,index=x.columns,columns=['feature_importance'])"
   ]
  },
  {
   "cell_type": "code",
   "execution_count": 0,
   "metadata": {
    "colab": {},
    "colab_type": "code",
    "id": "wp08vMkurQie"
   },
   "outputs": [],
   "source": [
    "df.sort_values(by='feature_importance',ascending=False,inplace=True)"
   ]
  },
  {
   "cell_type": "code",
   "execution_count": 52,
   "metadata": {
    "colab": {
     "base_uri": "https://localhost:8080/",
     "height": 353
    },
    "colab_type": "code",
    "id": "MTiZ7OvIr-Ni",
    "outputId": "9009f4d3-6781-41a1-aa3b-e82c75a08add"
   },
   "outputs": [
    {
     "data": {
      "text/plain": [
       "<matplotlib.axes._subplots.AxesSubplot at 0x7f0ce4510908>"
      ]
     },
     "execution_count": 52,
     "metadata": {
      "tags": []
     },
     "output_type": "execute_result"
    },
    {
     "data": {
      "image/png": "[encoded data removed]",
      "text/plain": [
       "<Figure size 720x360 with 1 Axes>"
      ]
     },
     "metadata": {
      "tags": []
     },
     "output_type": "display_data"
    }
   ],
   "source": [
    "plt.figure(figsize=(10,5))\n",
    "sns.barplot(df.feature_importance,df.index)"
   ]
  },
  {
   "cell_type": "code",
   "execution_count": 0,
   "metadata": {
    "colab": {},
    "colab_type": "code",
    "id": "tg9odUO3e_KT"
   },
   "outputs": [],
   "source": [
    "newtrain=scaled_x.drop(['Year','MarkDown1','MarkDown4','MarkDown5','MarkDown2','IsHoliday','Type_B','Type_C'],axis=1)"
   ]
  },
  {
   "cell_type": "code",
   "execution_count": 0,
   "metadata": {
    "colab": {},
    "colab_type": "code",
    "id": "jygn8pitazlz"
   },
   "outputs": [],
   "source": [
    "x_train,x_test,y_train,y_test=train_test_split(newtrain,y,test_size=0.3,random_state=10)"
   ]
  },
  {
   "cell_type": "code",
   "execution_count": 105,
   "metadata": {
    "colab": {
     "base_uri": "https://localhost:8080/",
     "height": 53
    },
    "colab_type": "code",
    "id": "EudZ9JF4fXPh",
    "outputId": "602e6821-66f9-41a5-ddc8-9be115005f7c"
   },
   "outputs": [
    {
     "name": "stdout",
     "output_type": "stream",
     "text": [
      "(RMSE Test) ----  : 3747.159290\n",
      "(RMSE Train) ----  : 1402.289185\n"
     ]
    }
   ],
   "source": [
    "rf_model.fit(x_train,y_train)\n",
    "pred_test=rf_model.predict(x_test)\n",
    "pred_train=rf_model.predict(x_train)\n",
    "msg1 = \"(%s) ----  : %f\"% ('RMSE Test',  np.sqrt(mean_squared_error(y_test,pred_test)))\n",
    "msg2 = \"(%s) ----  : %f\"% ('RMSE Train',  np.sqrt(mean_squared_error(y_train,pred_train)))\n",
    "print(msg1)\n",
    "print(msg2)"
   ]
  },
  {
   "cell_type": "code",
   "execution_count": 106,
   "metadata": {
    "colab": {
     "base_uri": "https://localhost:8080/",
     "height": 53
    },
    "colab_type": "code",
    "id": "R4lOGdxHfhsj",
    "outputId": "cb7d61d4-9697-4cc3-838c-b860486f7f01"
   },
   "outputs": [
    {
     "name": "stdout",
     "output_type": "stream",
     "text": [
      "(RMSE Test) ----  : 3713.441960\n",
      "(RMSE Train) ----  : 2176.804402\n"
     ]
    }
   ],
   "source": [
    "bg_model.fit(x_train,y_train)\n",
    "pred_test=bg_model.predict(x_test)\n",
    "pred_train=bg_model.predict(x_train)\n",
    "msg1 = \"(%s) ----  : %f\"% ('RMSE Test',  np.sqrt(mean_squared_error(y_test,pred_test)))\n",
    "msg2 = \"(%s) ----  : %f\"% ('RMSE Train',  np.sqrt(mean_squared_error(y_train,pred_train)))\n",
    "print(msg1)\n",
    "print(msg2)"
   ]
  },
  {
   "cell_type": "code",
   "execution_count": null,
   "metadata": {},
   "outputs": [],
   "source": [
    "# Using important features in Random Forrest and then Bagging ,reduce RMSE a bit.\n",
    "# Finaly using this model to predict Weekly_Sales in Test data."
   ]
  },
  {
   "cell_type": "code",
   "execution_count": 0,
   "metadata": {
    "colab": {},
    "colab_type": "code",
    "id": "kXnZpd94mrSx"
   },
   "outputs": [],
   "source": [
    "pred=bg_model.predict(scaled_test)# Using Scaled test data"
   ]
  },
  {
   "cell_type": "code",
   "execution_count": 0,
   "metadata": {
    "colab": {},
    "colab_type": "code",
    "id": "bttQMd3mp6v-"
   },
   "outputs": [],
   "source": [
    "test1=pd.read_csv('/content/test.csv')"
   ]
  },
  {
   "cell_type": "code",
   "execution_count": 0,
   "metadata": {
    "colab": {},
    "colab_type": "code",
    "id": "HHCgjBu7qt10"
   },
   "outputs": [],
   "source": [
    "test1['Weekly_Sales']=pred"
   ]
  },
  {
   "cell_type": "code",
   "execution_count": 0,
   "metadata": {
    "colab": {},
    "colab_type": "code",
    "id": "1pWspoVPqBLh"
   },
   "outputs": [],
   "source": [
    "solution=test1[['Store','Dept','Date','Weekly_Sales']]"
   ]
  },
  {
   "cell_type": "code",
   "execution_count": 0,
   "metadata": {
    "colab": {},
    "colab_type": "code",
    "id": "cA42X5-Jq61G"
   },
   "outputs": [],
   "source": [
    "solution.to_csv('solution.csv',index_label=False)"
   ]
  },
  {
   "cell_type": "code",
   "execution_count": 0,
   "metadata": {
    "colab": {},
    "colab_type": "code",
    "id": "w1f2ZihorB2M"
   },
   "outputs": [],
   "source": []
  }
 ],
 "metadata": {
  "colab": {
   "name": "Devansh Gupta BluePi.ipynb",
   "provenance": []
  },
  "kernelspec": {
   "display_name": "Python 3",
   "language": "python",
   "name": "python3"
  },
  "language_info": {
   "codemirror_mode": {
    "name": "ipython",
    "version": 3
   },
   "file_extension": ".py",
   "mimetype": "text/x-python",
   "name": "python",
   "nbconvert_exporter": "python",
   "pygments_lexer": "ipython3",
   "version": "3.7.3"
  }
 },
 "nbformat": 4,
 "nbformat_minor": 1
}
